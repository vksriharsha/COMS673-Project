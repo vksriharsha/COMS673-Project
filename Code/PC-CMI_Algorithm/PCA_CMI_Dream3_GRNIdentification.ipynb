{
  "nbformat": 4,
  "nbformat_minor": 0,
  "metadata": {
    "kernelspec": {
      "display_name": "Python [conda env:scrna]",
      "language": "python",
      "name": "conda-env-scrna-py"
    },
    "language_info": {
      "codemirror_mode": {
        "name": "ipython",
        "version": 3
      },
      "file_extension": ".py",
      "mimetype": "text/x-python",
      "name": "python",
      "nbconvert_exporter": "python",
      "pygments_lexer": "ipython3",
      "version": "3.6.10"
    },
    "colab": {
      "name": "PCA_CMI_Dream3_GRNIdentification.ipynb",
      "provenance": []
    }
  },
  "cells": [
    {
      "cell_type": "code",
      "metadata": {
        "colab": {
          "base_uri": "https://localhost:8080/"
        },
        "id": "XBbdv4yGYZkR",
        "outputId": "774a9dd0-e871-444f-e7bf-1ec1993d6cb9"
      },
      "source": [
        "from google.colab import drive\n",
        "drive.mount('/content/drive', force_remount=True)"
      ],
      "execution_count": null,
      "outputs": [
        {
          "output_type": "stream",
          "name": "stdout",
          "text": [
            "Mounted at /content/drive\n"
          ]
        }
      ]
    },
    {
      "cell_type": "code",
      "metadata": {
        "colab": {
          "base_uri": "https://localhost:8080/"
        },
        "id": "5jciRkyIY06k",
        "outputId": "3be9583e-66f9-47b6-913d-e3d1b93c6311"
      },
      "source": [
        "\n",
        "!pip install pycm"
      ],
      "execution_count": null,
      "outputs": [
        {
          "output_type": "stream",
          "name": "stdout",
          "text": [
            "Collecting pycm\n",
            "  Downloading pycm-3.3-py2.py3-none-any.whl (65 kB)\n",
            "\u001b[?25l\r\u001b[K     |█████                           | 10 kB 21.7 MB/s eta 0:00:01\r\u001b[K     |██████████                      | 20 kB 21.3 MB/s eta 0:00:01\r\u001b[K     |███████████████                 | 30 kB 18.6 MB/s eta 0:00:01\r\u001b[K     |████████████████████            | 40 kB 12.4 MB/s eta 0:00:01\r\u001b[K     |█████████████████████████       | 51 kB 5.6 MB/s eta 0:00:01\r\u001b[K     |██████████████████████████████  | 61 kB 5.7 MB/s eta 0:00:01\r\u001b[K     |████████████████████████████████| 65 kB 2.0 MB/s \n",
            "\u001b[?25hRequirement already satisfied: numpy>=1.9.0 in /usr/local/lib/python3.7/dist-packages (from pycm) (1.19.5)\n",
            "Collecting art>=1.8\n",
            "  Downloading art-5.3-py2.py3-none-any.whl (574 kB)\n",
            "\u001b[K     |████████████████████████████████| 574 kB 10.2 MB/s \n",
            "\u001b[?25hInstalling collected packages: art, pycm\n",
            "Successfully installed art-5.3 pycm-3.3\n"
          ]
        }
      ]
    },
    {
      "cell_type": "code",
      "metadata": {
        "id": "f8mNB-IEYSs6"
      },
      "source": [
        "import time\n",
        "import numpy as np\n",
        "import pandas as pd\n",
        "import argparse\n",
        "import matplotlib.pyplot as plt\n",
        "from copy import deepcopy\n",
        "from scipy import interpolate\n",
        "from sklearn.feature_selection import mutual_info_regression\n",
        "from scipy.stats import pearsonr\n",
        "import scipy.sparse\n",
        "import sys\n",
        "import pickle\n",
        "import re\n",
        "from pyitlib import discrete_random_variable as drv\n",
        "from dtit import dtit\n",
        "from scipy import stats\n",
        "from numpy import savetxt\n",
        "from numpy import genfromtxt\n",
        "import networkx as nx\n",
        "from scipy.stats import norm\n",
        "import itertools\n",
        "import math\n",
        "import copy\n",
        "from sklearn.metrics import roc_curve\n",
        "from sklearn.metrics import roc_auc_score\n",
        "from sklearn.metrics import precision_recall_curve, roc_curve, auc, average_precision_score\n",
        "from sklearn.metrics import confusion_matrix\n",
        "from pycm import *"
      ],
      "execution_count": null,
      "outputs": []
    },
    {
      "cell_type": "code",
      "metadata": {
        "id": "j7pC-vCUYSs_"
      },
      "source": [
        "def conditional_mutual_info(X,Y,Z=np.array(1)):\n",
        "    \n",
        "    if X.ndim == 1:\n",
        "            X = np.reshape(X, (-1, 1))\n",
        "    \n",
        "    if Y.ndim == 1:\n",
        "            Y = np.reshape(Y, (-1, 1))\n",
        "            \n",
        "    if Z.ndim == 0: \n",
        "        c1 = np.cov(X)\n",
        "        \n",
        "        if c1.ndim != 0: \n",
        "            d1 = np.linalg.det(c1)\n",
        "        else:\n",
        "            d1 = c1.item()\n",
        "            \n",
        "        c2 = np.cov(Y)\n",
        "        \n",
        "        if c2.ndim != 0: \n",
        "            d2 = np.linalg.det(c2)\n",
        "        else:\n",
        "            d2 = c2.item()\n",
        "            \n",
        "        c3 = np.cov(X,Y)\n",
        "        \n",
        "        if c3.ndim != 0: \n",
        "            d3 = np.linalg.det(c3)\n",
        "        else:\n",
        "            d3 = c3.item()\n",
        "            \n",
        "        cmi = (1/2)*np.log((d1*d2)/d3)\n",
        "    \n",
        "    else:\n",
        "        \n",
        "        if Z.ndim == 1:\n",
        "            Z = np.reshape(Z, (-1, 1))\n",
        "        \n",
        "        c1 = np.cov(np.concatenate((X, Z), axis=0))\n",
        "        \n",
        "        if c1.ndim != 0: \n",
        "            d1 = np.linalg.det(c1)\n",
        "        else:\n",
        "            d1 = c1.item()\n",
        "    \n",
        "        c2 = np.cov(np.concatenate((Y, Z), axis=0))\n",
        "        \n",
        "        if c2.ndim != 0: \n",
        "            d2 = np.linalg.det(c2)\n",
        "        else:\n",
        "            d2 = c2.item()\n",
        "            \n",
        "        c3 = np.cov(Z)\n",
        "        \n",
        "        if c3.ndim != 0: \n",
        "            d3 = np.linalg.det(c3)\n",
        "        else:\n",
        "            d3 = c3.item()\n",
        "            \n",
        "        c4 = np.cov(np.concatenate((X, Y, Z), axis=0))\n",
        "        \n",
        "        if c4.ndim != 0: \n",
        "            d4 = np.linalg.det(c4)\n",
        "        else:\n",
        "            d4 = c4.item()\n",
        "        \n",
        "        cmi = (1/2)*np.log((d1*d2)/(d3*d4))\n",
        "    \n",
        "    \n",
        "    if math.isinf(cmi):\n",
        "        cmi = 0\n",
        "    \n",
        "    return cmi\n",
        "\n"
      ],
      "execution_count": null,
      "outputs": []
    },
    {
      "cell_type": "code",
      "metadata": {
        "id": "38y542BkYStB"
      },
      "source": [
        "def pca_cmi(data, theta, max_order):\n",
        "    \n",
        "    genes = list(data.columns)\n",
        "    \n",
        "    predicted_graph = nx.complete_graph(genes)\n",
        "    num_edges = predicted_graph.number_of_edges()\n",
        "    print(\"Number of edges in the initial complete graph : {}\".format(num_edges))\n",
        "    print()\n",
        "    \n",
        "    L = -1\n",
        "    nochange = False\n",
        "    \n",
        "    while L < max_order and nochange == False:\n",
        "        L = L+1\n",
        "        predicted_graph, nochange = remove_edges(predicted_graph, data, L, theta)\n",
        "        \n",
        "        print(\"Order : {}\".format(L))\n",
        "        print(\"Number of edges in the predicted graph : {}\".format(predicted_graph.number_of_edges()))\n",
        "        print()\n",
        "    \n",
        "    \n",
        "    print()\n",
        "    print()\n",
        "    print(\"Final Prediction:\")\n",
        "    print(\"-----------------\")\n",
        "    print(\"Order : {}\".format(L))\n",
        "    print(\"Number of edges in the predicted graph : {}\".format(predicted_graph.number_of_edges()))\n",
        "    nx.draw(predicted_graph, with_labels=True, font_weight='bold')\n",
        "    print()\n",
        "    return predicted_graph\n",
        "\n",
        "\n",
        "def remove_edges(predicted_graph, data, L, theta):\n",
        "    \n",
        "    initial_num_edges = predicted_graph.number_of_edges()\n",
        "    \n",
        "    edges = predicted_graph.edges()\n",
        "\n",
        "    for edge in edges:\n",
        "        neighbors = nx.common_neighbors(predicted_graph, edge[0], edge[1])\n",
        "        nhbrs = copy.deepcopy(sorted(neighbors))\\\n",
        "        \n",
        "        T = len(nhbrs)\n",
        "        \n",
        "        if T < L and L != 0:\n",
        "            continue\n",
        "        \n",
        "        else:\n",
        "            x = data[edge[0]].to_numpy()\n",
        "            if x.ndim == 1:\n",
        "                x = np.reshape(x, (-1, 1))\n",
        "            \n",
        "            y = data[edge[1]].to_numpy()\n",
        "            if y.ndim == 1:\n",
        "                y = np.reshape(y, (-1, 1))\n",
        "                \n",
        "            K = list(itertools.combinations(nhbrs, L))\n",
        "                \n",
        "            if L == 0:\n",
        "                cmiVal = conditional_mutual_info(x.T, y.T)\n",
        "                \n",
        "                if cmiVal < theta:\n",
        "                    predicted_graph.remove_edge(edge[0], edge[1])\n",
        "                               \n",
        "            else:  \n",
        "                \n",
        "                maxCmiVal = 0\n",
        "                \n",
        "                for zgroup in K:\n",
        "                    \n",
        "                    z = data[list(zgroup)].to_numpy()\n",
        "                    if z.ndim == 1:\n",
        "                        z = np.reshape(z, (-1, 1))\n",
        "                    \n",
        "                    cmiVal = conditional_mutual_info(x.T, y.T, z.T)\n",
        "                    \n",
        "                    if cmiVal > maxCmiVal:\n",
        "                        maxCmiVal = cmiVal\n",
        "                \n",
        "                if maxCmiVal < theta:\n",
        "                    predicted_graph.remove_edge(edge[0], edge[1])\n",
        "                    \n",
        "                \n",
        "        \n",
        "    final_num_edges = predicted_graph.number_of_edges()\n",
        "        \n",
        "    if final_num_edges < initial_num_edges:\n",
        "        return  predicted_graph, False\n",
        "        \n",
        "        \n",
        "    return  predicted_graph, True\n",
        "            "
      ],
      "execution_count": null,
      "outputs": []
    },
    {
      "cell_type": "code",
      "metadata": {
        "colab": {
          "base_uri": "https://localhost:8080/",
          "height": 413
        },
        "id": "VpKQJonVYStB",
        "outputId": "ef875652-bdcc-4227-b8db-f45e40942213"
      },
      "source": [
        "data = pd.read_csv('/content/drive/MyDrive/673:termproject/PC-CMI_Algorithm/Data/InSilicoSize10-Yeast3-trajectories.tsv', sep='\\t') \n",
        "data = data.drop(['Time'], axis=1)\n",
        "data"
      ],
      "execution_count": null,
      "outputs": [
        {
          "output_type": "execute_result",
          "data": {
            "text/html": [
              "<div>\n",
              "<style scoped>\n",
              "    .dataframe tbody tr th:only-of-type {\n",
              "        vertical-align: middle;\n",
              "    }\n",
              "\n",
              "    .dataframe tbody tr th {\n",
              "        vertical-align: top;\n",
              "    }\n",
              "\n",
              "    .dataframe thead th {\n",
              "        text-align: right;\n",
              "    }\n",
              "</style>\n",
              "<table border=\"1\" class=\"dataframe\">\n",
              "  <thead>\n",
              "    <tr style=\"text-align: right;\">\n",
              "      <th></th>\n",
              "      <th>G1</th>\n",
              "      <th>G2</th>\n",
              "      <th>G3</th>\n",
              "      <th>G4</th>\n",
              "      <th>G5</th>\n",
              "      <th>G6</th>\n",
              "      <th>G7</th>\n",
              "      <th>G8</th>\n",
              "      <th>G9</th>\n",
              "      <th>G10</th>\n",
              "    </tr>\n",
              "  </thead>\n",
              "  <tbody>\n",
              "    <tr>\n",
              "      <th>0</th>\n",
              "      <td>0.151815</td>\n",
              "      <td>0.843570</td>\n",
              "      <td>0.687901</td>\n",
              "      <td>0.542271</td>\n",
              "      <td>0.042484</td>\n",
              "      <td>0.628580</td>\n",
              "      <td>0.481827</td>\n",
              "      <td>0.142729</td>\n",
              "      <td>0.681395</td>\n",
              "      <td>0.635583</td>\n",
              "    </tr>\n",
              "    <tr>\n",
              "      <th>1</th>\n",
              "      <td>0.176599</td>\n",
              "      <td>0.878802</td>\n",
              "      <td>0.545136</td>\n",
              "      <td>0.411161</td>\n",
              "      <td>0.139176</td>\n",
              "      <td>0.686351</td>\n",
              "      <td>0.633151</td>\n",
              "      <td>0.192211</td>\n",
              "      <td>0.553457</td>\n",
              "      <td>0.732408</td>\n",
              "    </tr>\n",
              "    <tr>\n",
              "      <th>2</th>\n",
              "      <td>0.248199</td>\n",
              "      <td>0.852451</td>\n",
              "      <td>0.488595</td>\n",
              "      <td>0.378818</td>\n",
              "      <td>0.198915</td>\n",
              "      <td>0.713748</td>\n",
              "      <td>0.703731</td>\n",
              "      <td>0.226590</td>\n",
              "      <td>0.490167</td>\n",
              "      <td>0.740962</td>\n",
              "    </tr>\n",
              "    <tr>\n",
              "      <th>3</th>\n",
              "      <td>0.285180</td>\n",
              "      <td>0.704701</td>\n",
              "      <td>0.287811</td>\n",
              "      <td>0.313647</td>\n",
              "      <td>0.114908</td>\n",
              "      <td>0.869027</td>\n",
              "      <td>0.766025</td>\n",
              "      <td>0.350182</td>\n",
              "      <td>0.438760</td>\n",
              "      <td>0.733792</td>\n",
              "    </tr>\n",
              "    <tr>\n",
              "      <th>4</th>\n",
              "      <td>0.309298</td>\n",
              "      <td>0.768281</td>\n",
              "      <td>0.335638</td>\n",
              "      <td>0.252602</td>\n",
              "      <td>0.095511</td>\n",
              "      <td>0.830427</td>\n",
              "      <td>0.792044</td>\n",
              "      <td>0.258589</td>\n",
              "      <td>0.332607</td>\n",
              "      <td>0.795363</td>\n",
              "    </tr>\n",
              "    <tr>\n",
              "      <th>...</th>\n",
              "      <td>...</td>\n",
              "      <td>...</td>\n",
              "      <td>...</td>\n",
              "      <td>...</td>\n",
              "      <td>...</td>\n",
              "      <td>...</td>\n",
              "      <td>...</td>\n",
              "      <td>...</td>\n",
              "      <td>...</td>\n",
              "      <td>...</td>\n",
              "    </tr>\n",
              "    <tr>\n",
              "      <th>79</th>\n",
              "      <td>0.302738</td>\n",
              "      <td>0.891836</td>\n",
              "      <td>0.000000</td>\n",
              "      <td>0.799767</td>\n",
              "      <td>0.074334</td>\n",
              "      <td>0.954912</td>\n",
              "      <td>0.884307</td>\n",
              "      <td>0.456002</td>\n",
              "      <td>0.090274</td>\n",
              "      <td>0.837313</td>\n",
              "    </tr>\n",
              "    <tr>\n",
              "      <th>80</th>\n",
              "      <td>0.230557</td>\n",
              "      <td>0.917815</td>\n",
              "      <td>0.000000</td>\n",
              "      <td>0.698579</td>\n",
              "      <td>0.069477</td>\n",
              "      <td>0.840124</td>\n",
              "      <td>0.980214</td>\n",
              "      <td>0.473289</td>\n",
              "      <td>0.095598</td>\n",
              "      <td>0.843823</td>\n",
              "    </tr>\n",
              "    <tr>\n",
              "      <th>81</th>\n",
              "      <td>0.241923</td>\n",
              "      <td>0.839429</td>\n",
              "      <td>0.011325</td>\n",
              "      <td>0.813656</td>\n",
              "      <td>0.057038</td>\n",
              "      <td>0.881488</td>\n",
              "      <td>0.846068</td>\n",
              "      <td>0.508104</td>\n",
              "      <td>0.016931</td>\n",
              "      <td>0.855619</td>\n",
              "    </tr>\n",
              "    <tr>\n",
              "      <th>82</th>\n",
              "      <td>0.169627</td>\n",
              "      <td>0.944395</td>\n",
              "      <td>0.000000</td>\n",
              "      <td>0.735319</td>\n",
              "      <td>0.052242</td>\n",
              "      <td>0.893372</td>\n",
              "      <td>0.812333</td>\n",
              "      <td>0.431864</td>\n",
              "      <td>0.160832</td>\n",
              "      <td>0.923225</td>\n",
              "    </tr>\n",
              "    <tr>\n",
              "      <th>83</th>\n",
              "      <td>0.205665</td>\n",
              "      <td>0.902280</td>\n",
              "      <td>0.044440</td>\n",
              "      <td>0.835971</td>\n",
              "      <td>0.103672</td>\n",
              "      <td>0.956120</td>\n",
              "      <td>0.909417</td>\n",
              "      <td>0.475562</td>\n",
              "      <td>0.127665</td>\n",
              "      <td>0.874792</td>\n",
              "    </tr>\n",
              "  </tbody>\n",
              "</table>\n",
              "<p>84 rows × 10 columns</p>\n",
              "</div>"
            ],
            "text/plain": [
              "          G1        G2        G3  ...        G8        G9       G10\n",
              "0   0.151815  0.843570  0.687901  ...  0.142729  0.681395  0.635583\n",
              "1   0.176599  0.878802  0.545136  ...  0.192211  0.553457  0.732408\n",
              "2   0.248199  0.852451  0.488595  ...  0.226590  0.490167  0.740962\n",
              "3   0.285180  0.704701  0.287811  ...  0.350182  0.438760  0.733792\n",
              "4   0.309298  0.768281  0.335638  ...  0.258589  0.332607  0.795363\n",
              "..       ...       ...       ...  ...       ...       ...       ...\n",
              "79  0.302738  0.891836  0.000000  ...  0.456002  0.090274  0.837313\n",
              "80  0.230557  0.917815  0.000000  ...  0.473289  0.095598  0.843823\n",
              "81  0.241923  0.839429  0.011325  ...  0.508104  0.016931  0.855619\n",
              "82  0.169627  0.944395  0.000000  ...  0.431864  0.160832  0.923225\n",
              "83  0.205665  0.902280  0.044440  ...  0.475562  0.127665  0.874792\n",
              "\n",
              "[84 rows x 10 columns]"
            ]
          },
          "metadata": {},
          "execution_count": 338
        }
      ]
    },
    {
      "cell_type": "code",
      "metadata": {
        "colab": {
          "base_uri": "https://localhost:8080/",
          "height": 683
        },
        "id": "rbwWG8cKYStD",
        "outputId": "36501dbd-bef6-406c-a506-96659bef9c63"
      },
      "source": [
        "predicted_graph = pca_cmi(data, 0.02, 10)\n",
        "predicted_adjMatrix = nx.adjacency_matrix(predicted_graph)\n",
        "\n",
        "print(predicted_adjMatrix.todense())"
      ],
      "execution_count": null,
      "outputs": [
        {
          "output_type": "stream",
          "name": "stdout",
          "text": [
            "Number of edges in the initial complete graph : 45\n",
            "\n",
            "Order : 0\n",
            "Number of edges in the predicted graph : 35\n",
            "\n",
            "\n",
            "\n",
            "Final Prediction:\n",
            "-----------------\n",
            "Order : 0\n",
            "Number of edges in the predicted graph : 35\n",
            "\n",
            "[[0 0 1 1 1 1 1 0 1 0]\n",
            " [0 0 1 1 1 1 0 0 1 1]\n",
            " [1 1 0 1 0 1 1 1 1 1]\n",
            " [1 1 1 0 1 1 1 1 1 1]\n",
            " [1 1 0 1 0 1 0 0 0 1]\n",
            " [1 1 1 1 1 0 0 1 1 1]\n",
            " [1 0 1 1 0 0 0 1 1 1]\n",
            " [0 0 1 1 0 1 1 0 1 1]\n",
            " [1 1 1 1 0 1 1 1 0 1]\n",
            " [0 1 1 1 1 1 1 1 1 0]]\n"
          ]
        },
        {
          "output_type": "display_data",
          "data": {
            "image/png": "[encoded data removed]",
            "text/plain": [
              "<Figure size 432x288 with 1 Axes>"
            ]
          },
          "metadata": {}
        }
      ]
    },
    {
      "cell_type": "code",
      "metadata": {
        "colab": {
          "base_uri": "https://localhost:8080/",
          "height": 720
        },
        "id": "sIScDGR2YStD",
        "outputId": "665392c2-412d-4d1d-ab9c-51e856ff40a1"
      },
      "source": [
        "benchmark_network = pd.read_csv('/content/drive/MyDrive/673:termproject/PC-CMI_Algorithm/Test/DREAM3GoldStandard_InSilicoSize10_Yeast3.txt', sep='\\t', header=None)\n",
        "benchmark_network = benchmark_network.loc[benchmark_network[2] == 1]\n",
        "benchmark_network"
      ],
      "execution_count": null,
      "outputs": [
        {
          "output_type": "execute_result",
          "data": {
            "text/html": [
              "<div>\n",
              "<style scoped>\n",
              "    .dataframe tbody tr th:only-of-type {\n",
              "        vertical-align: middle;\n",
              "    }\n",
              "\n",
              "    .dataframe tbody tr th {\n",
              "        vertical-align: top;\n",
              "    }\n",
              "\n",
              "    .dataframe thead th {\n",
              "        text-align: right;\n",
              "    }\n",
              "</style>\n",
              "<table border=\"1\" class=\"dataframe\">\n",
              "  <thead>\n",
              "    <tr style=\"text-align: right;\">\n",
              "      <th></th>\n",
              "      <th>0</th>\n",
              "      <th>1</th>\n",
              "      <th>2</th>\n",
              "    </tr>\n",
              "  </thead>\n",
              "  <tbody>\n",
              "    <tr>\n",
              "      <th>0</th>\n",
              "      <td>G2</td>\n",
              "      <td>G1</td>\n",
              "      <td>1</td>\n",
              "    </tr>\n",
              "    <tr>\n",
              "      <th>1</th>\n",
              "      <td>G3</td>\n",
              "      <td>G1</td>\n",
              "      <td>1</td>\n",
              "    </tr>\n",
              "    <tr>\n",
              "      <th>2</th>\n",
              "      <td>G4</td>\n",
              "      <td>G1</td>\n",
              "      <td>1</td>\n",
              "    </tr>\n",
              "    <tr>\n",
              "      <th>3</th>\n",
              "      <td>G5</td>\n",
              "      <td>G1</td>\n",
              "      <td>1</td>\n",
              "    </tr>\n",
              "    <tr>\n",
              "      <th>4</th>\n",
              "      <td>G6</td>\n",
              "      <td>G1</td>\n",
              "      <td>1</td>\n",
              "    </tr>\n",
              "    <tr>\n",
              "      <th>5</th>\n",
              "      <td>G3</td>\n",
              "      <td>G2</td>\n",
              "      <td>1</td>\n",
              "    </tr>\n",
              "    <tr>\n",
              "      <th>6</th>\n",
              "      <td>G7</td>\n",
              "      <td>G2</td>\n",
              "      <td>1</td>\n",
              "    </tr>\n",
              "    <tr>\n",
              "      <th>7</th>\n",
              "      <td>G7</td>\n",
              "      <td>G3</td>\n",
              "      <td>1</td>\n",
              "    </tr>\n",
              "    <tr>\n",
              "      <th>8</th>\n",
              "      <td>G3</td>\n",
              "      <td>G4</td>\n",
              "      <td>1</td>\n",
              "    </tr>\n",
              "    <tr>\n",
              "      <th>9</th>\n",
              "      <td>G2</td>\n",
              "      <td>G5</td>\n",
              "      <td>1</td>\n",
              "    </tr>\n",
              "    <tr>\n",
              "      <th>10</th>\n",
              "      <td>G3</td>\n",
              "      <td>G5</td>\n",
              "      <td>1</td>\n",
              "    </tr>\n",
              "    <tr>\n",
              "      <th>11</th>\n",
              "      <td>G4</td>\n",
              "      <td>G5</td>\n",
              "      <td>1</td>\n",
              "    </tr>\n",
              "    <tr>\n",
              "      <th>12</th>\n",
              "      <td>G6</td>\n",
              "      <td>G5</td>\n",
              "      <td>1</td>\n",
              "    </tr>\n",
              "    <tr>\n",
              "      <th>13</th>\n",
              "      <td>G7</td>\n",
              "      <td>G5</td>\n",
              "      <td>1</td>\n",
              "    </tr>\n",
              "    <tr>\n",
              "      <th>14</th>\n",
              "      <td>G8</td>\n",
              "      <td>G5</td>\n",
              "      <td>1</td>\n",
              "    </tr>\n",
              "    <tr>\n",
              "      <th>15</th>\n",
              "      <td>G9</td>\n",
              "      <td>G5</td>\n",
              "      <td>1</td>\n",
              "    </tr>\n",
              "    <tr>\n",
              "      <th>16</th>\n",
              "      <td>G7</td>\n",
              "      <td>G8</td>\n",
              "      <td>1</td>\n",
              "    </tr>\n",
              "    <tr>\n",
              "      <th>17</th>\n",
              "      <td>G7</td>\n",
              "      <td>G9</td>\n",
              "      <td>1</td>\n",
              "    </tr>\n",
              "    <tr>\n",
              "      <th>18</th>\n",
              "      <td>G8</td>\n",
              "      <td>G9</td>\n",
              "      <td>1</td>\n",
              "    </tr>\n",
              "    <tr>\n",
              "      <th>19</th>\n",
              "      <td>G10</td>\n",
              "      <td>G9</td>\n",
              "      <td>1</td>\n",
              "    </tr>\n",
              "    <tr>\n",
              "      <th>20</th>\n",
              "      <td>G3</td>\n",
              "      <td>G10</td>\n",
              "      <td>1</td>\n",
              "    </tr>\n",
              "    <tr>\n",
              "      <th>21</th>\n",
              "      <td>G7</td>\n",
              "      <td>G10</td>\n",
              "      <td>1</td>\n",
              "    </tr>\n",
              "  </tbody>\n",
              "</table>\n",
              "</div>"
            ],
            "text/plain": [
              "      0    1  2\n",
              "0    G2   G1  1\n",
              "1    G3   G1  1\n",
              "2    G4   G1  1\n",
              "3    G5   G1  1\n",
              "4    G6   G1  1\n",
              "5    G3   G2  1\n",
              "6    G7   G2  1\n",
              "7    G7   G3  1\n",
              "8    G3   G4  1\n",
              "9    G2   G5  1\n",
              "10   G3   G5  1\n",
              "11   G4   G5  1\n",
              "12   G6   G5  1\n",
              "13   G7   G5  1\n",
              "14   G8   G5  1\n",
              "15   G9   G5  1\n",
              "16   G7   G8  1\n",
              "17   G7   G9  1\n",
              "18   G8   G9  1\n",
              "19  G10   G9  1\n",
              "20   G3  G10  1\n",
              "21   G7  G10  1"
            ]
          },
          "metadata": {},
          "execution_count": 379
        }
      ]
    },
    {
      "cell_type": "code",
      "metadata": {
        "colab": {
          "base_uri": "https://localhost:8080/",
          "height": 485
        },
        "id": "nHEF742sYStE",
        "outputId": "9702ef0c-34ad-499d-d710-845ae7c726f8"
      },
      "source": [
        "import matplotlib.pyplot as plt\n",
        "\n",
        "benchmark_graph = nx.Graph()\n",
        "\n",
        "for i in (1,10):\n",
        "    benchmark_graph.add_node('G'+str(i))\n",
        "\n",
        "for row in range(0,benchmark_network.shape[0]):\n",
        "    benchmark_graph.add_edge(benchmark_network[0][row], benchmark_network[1][row])\n",
        "\n",
        "nx.draw(benchmark_graph, with_labels=True, font_weight='bold')\n",
        "\n",
        "benchmark_adjMatrix = nx.adjacency_matrix(benchmark_graph)\n",
        "\n",
        "print(benchmark_adjMatrix.todense())"
      ],
      "execution_count": null,
      "outputs": [
        {
          "output_type": "stream",
          "name": "stdout",
          "text": [
            "[[0 0 1 1 1 1 1 0 0 0]\n",
            " [0 0 0 1 0 0 0 1 0 1]\n",
            " [1 0 0 1 0 1 0 1 0 0]\n",
            " [1 1 1 0 1 1 0 1 0 0]\n",
            " [1 0 0 1 0 1 0 0 0 0]\n",
            " [1 0 1 1 1 0 1 1 1 1]\n",
            " [1 0 0 0 0 1 0 0 0 0]\n",
            " [0 1 1 1 0 1 0 0 1 1]\n",
            " [0 0 0 0 0 1 0 1 0 1]\n",
            " [0 1 0 0 0 1 0 1 1 0]]\n"
          ]
        },
        {
          "output_type": "display_data",
          "data": {
            "image/png": "[encoded data removed]",
            "text/plain": [
              "<Figure size 432x288 with 1 Axes>"
            ]
          },
          "metadata": {}
        }
      ]
    },
    {
      "cell_type": "code",
      "metadata": {
        "id": "GyhS2TafYStE"
      },
      "source": [
        "# editDistance = nx.optimize_graph_edit_distance(predicted_graph, benchmark_graph)\n",
        "# print(list(editDistance))"
      ],
      "execution_count": null,
      "outputs": []
    },
    {
      "cell_type": "code",
      "metadata": {
        "id": "boiMNRJgYStF"
      },
      "source": [
        "y_test = benchmark_adjMatrix.todense().flatten()\n",
        "y_pred = predicted_adjMatrix.todense().flatten()\n",
        "\n",
        "y_pred = np.asarray(y_pred)\n",
        "y_test = np.asarray(y_test)\n",
        "\n",
        "y_pred = y_pred.reshape(y_pred.shape[1],)\n",
        "y_test = y_test.reshape(y_test.shape[1],)"
      ],
      "execution_count": null,
      "outputs": []
    },
    {
      "cell_type": "code",
      "metadata": {
        "colab": {
          "base_uri": "https://localhost:8080/"
        },
        "id": "arEtqIaeYStF",
        "outputId": "cc2cfe87-c6c8-45ec-cda3-798485cf5177"
      },
      "source": [
        "\n",
        "\n",
        "cm = ConfusionMatrix(y_test, y_pred)\n",
        "# cm.relabel(mapping=classdict)\n",
        "print(cm.ACC_Macro)"
      ],
      "execution_count": null,
      "outputs": [
        {
          "output_type": "stream",
          "name": "stdout",
          "text": [
            "0.66\n"
          ]
        }
      ]
    },
    {
      "cell_type": "code",
      "metadata": {
        "colab": {
          "base_uri": "https://localhost:8080/"
        },
        "id": "C-oDo4w7qFA4",
        "outputId": "eac75044-9f48-4476-cf79-82ab28d3f10e"
      },
      "source": [
        "y_pred"
      ],
      "execution_count": null,
      "outputs": [
        {
          "output_type": "execute_result",
          "data": {
            "text/plain": [
              "array([0, 0, 1, 1, 0, 1, 1, 0, 1, 0, 0, 0, 1, 1, 1, 1, 0, 0, 1, 1, 1, 1,\n",
              "       0, 1, 0, 1, 0, 1, 1, 1, 1, 1, 1, 0, 1, 1, 0, 0, 1, 0, 0, 1, 0, 1,\n",
              "       0, 1, 0, 0, 0, 0, 1, 1, 1, 1, 1, 0, 0, 0, 0, 1, 1, 0, 0, 0, 0, 0,\n",
              "       0, 1, 1, 1, 0, 0, 1, 0, 0, 0, 1, 0, 1, 1, 1, 1, 1, 1, 0, 0, 1, 1,\n",
              "       0, 1, 0, 1, 1, 0, 0, 1, 1, 1, 1, 0], dtype=int64)"
            ]
          },
          "metadata": {},
          "execution_count": 363
        }
      ]
    },
    {
      "cell_type": "code",
      "metadata": {
        "colab": {
          "base_uri": "https://localhost:8080/",
          "height": 280
        },
        "id": "ELrecraRYStG",
        "outputId": "856eb0bc-1c86-4ac5-f03e-a418ab93cf3e"
      },
      "source": [
        "ns_fpr, ns_tpr, _ = roc_curve(y_test, y_pred)\n",
        "\n",
        "auc = roc_auc_score(y_test, y_pred)\n",
        "\n",
        "# plot the roc curve for the model\n",
        "plt.plot(ns_fpr, ns_tpr, label='AUC='+str(round(auc*100,2))+'%')\n",
        "# axis labels\n",
        "plt.xlabel('False Positive Rate')\n",
        "plt.ylabel('True Positive Rate')\n",
        "# show the legend\n",
        "plt.legend(loc = 5)\n",
        "# show the plot\n",
        "plt.show()"
      ],
      "execution_count": null,
      "outputs": [
        {
          "output_type": "display_data",
          "data": {
            "image/png": "[encoded data removed]",
            "text/plain": [
              "<Figure size 432x288 with 1 Axes>"
            ]
          },
          "metadata": {
            "needs_background": "light"
          }
        }
      ]
    },
    {
      "cell_type": "code",
      "metadata": {
        "id": "L15hYfebYStG"
      },
      "source": [
        ""
      ],
      "execution_count": null,
      "outputs": []
    }
  ]
}