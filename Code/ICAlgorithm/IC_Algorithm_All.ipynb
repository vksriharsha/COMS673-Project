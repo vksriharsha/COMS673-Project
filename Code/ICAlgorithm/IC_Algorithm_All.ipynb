{
 "cells": [
  {
   "cell_type": "code",
   "execution_count": 70,
   "metadata": {},
   "outputs": [
    {
     "name": "stdout",
     "output_type": "stream",
     "text": [
      "\u001b[33mWARNING: Ignoring invalid distribution -umpy (/opt/anaconda3/lib/python3.7/site-packages)\u001b[0m\n",
      "\u001b[33mWARNING: Ignoring invalid distribution -ast (/opt/anaconda3/lib/python3.7/site-packages)\u001b[0m\n",
      "\u001b[33mWARNING: Ignoring invalid distribution -umpy (/opt/anaconda3/lib/python3.7/site-packages)\u001b[0m\n",
      "\u001b[33mWARNING: Ignoring invalid distribution -ast (/opt/anaconda3/lib/python3.7/site-packages)\u001b[0m\n",
      "Requirement already satisfied: causality in /opt/anaconda3/lib/python3.7/site-packages (0.0.10)\n",
      "Requirement already satisfied: pandas in /opt/anaconda3/lib/python3.7/site-packages (from causality) (1.2.1)\n",
      "Requirement already satisfied: python-dateutil in /opt/anaconda3/lib/python3.7/site-packages (from causality) (2.8.1)\n",
      "Requirement already satisfied: six in /opt/anaconda3/lib/python3.7/site-packages (from causality) (1.15.0)\n",
      "Requirement already satisfied: statsmodels in /opt/anaconda3/lib/python3.7/site-packages (from causality) (0.13.1)\n",
      "Requirement already satisfied: networkx in /opt/anaconda3/lib/python3.7/site-packages (from causality) (2.6.3)\n",
      "Requirement already satisfied: decorator in /opt/anaconda3/lib/python3.7/site-packages (from causality) (4.4.2)\n",
      "Requirement already satisfied: pytz in /opt/anaconda3/lib/python3.7/site-packages (from causality) (2020.5)\n",
      "Requirement already satisfied: numpy in /opt/anaconda3/lib/python3.7/site-packages (from causality) (1.19.5)\n",
      "Requirement already satisfied: scipy in /opt/anaconda3/lib/python3.7/site-packages (from causality) (1.4.1)\n",
      "Requirement already satisfied: patsy in /opt/anaconda3/lib/python3.7/site-packages (from causality) (0.5.2)\n",
      "\u001b[33mWARNING: Ignoring invalid distribution -umpy (/opt/anaconda3/lib/python3.7/site-packages)\u001b[0m\n",
      "\u001b[33mWARNING: Ignoring invalid distribution -ast (/opt/anaconda3/lib/python3.7/site-packages)\u001b[0m\n",
      "\u001b[33mWARNING: Ignoring invalid distribution -umpy (/opt/anaconda3/lib/python3.7/site-packages)\u001b[0m\n",
      "\u001b[33mWARNING: Ignoring invalid distribution -ast (/opt/anaconda3/lib/python3.7/site-packages)\u001b[0m\n",
      "\u001b[33mWARNING: Ignoring invalid distribution -umpy (/opt/anaconda3/lib/python3.7/site-packages)\u001b[0m\n",
      "\u001b[33mWARNING: Ignoring invalid distribution -ast (/opt/anaconda3/lib/python3.7/site-packages)\u001b[0m\n",
      "\u001b[33mWARNING: Ignoring invalid distribution -umpy (/opt/anaconda3/lib/python3.7/site-packages)\u001b[0m\n",
      "\u001b[33mWARNING: Ignoring invalid distribution -ast (/opt/anaconda3/lib/python3.7/site-packages)\u001b[0m\n",
      "\u001b[33mWARNING: You are using pip version 21.1.1; however, version 21.3.1 is available.\n",
      "You should consider upgrading via the '/opt/anaconda3/bin/python -m pip install --upgrade pip' command.\u001b[0m\n",
      "\u001b[33mWARNING: Ignoring invalid distribution -umpy (/opt/anaconda3/lib/python3.7/site-packages)\u001b[0m\n",
      "\u001b[33mWARNING: Ignoring invalid distribution -ast (/opt/anaconda3/lib/python3.7/site-packages)\u001b[0m\n",
      "\u001b[33mWARNING: Ignoring invalid distribution -umpy (/opt/anaconda3/lib/python3.7/site-packages)\u001b[0m\n",
      "\u001b[33mWARNING: Ignoring invalid distribution -ast (/opt/anaconda3/lib/python3.7/site-packages)\u001b[0m\n",
      "Requirement already satisfied: pandas in /opt/anaconda3/lib/python3.7/site-packages (1.2.1)\n",
      "Requirement already satisfied: numpy>=1.16.5 in /opt/anaconda3/lib/python3.7/site-packages (from pandas) (1.19.5)\n",
      "Requirement already satisfied: python-dateutil>=2.7.3 in /opt/anaconda3/lib/python3.7/site-packages (from pandas) (2.8.1)\n",
      "Requirement already satisfied: pytz>=2017.3 in /opt/anaconda3/lib/python3.7/site-packages (from pandas) (2020.5)\n",
      "Requirement already satisfied: six>=1.5 in /opt/anaconda3/lib/python3.7/site-packages (from python-dateutil>=2.7.3->pandas) (1.15.0)\n",
      "\u001b[33mWARNING: Ignoring invalid distribution -umpy (/opt/anaconda3/lib/python3.7/site-packages)\u001b[0m\n",
      "\u001b[33mWARNING: Ignoring invalid distribution -ast (/opt/anaconda3/lib/python3.7/site-packages)\u001b[0m\n",
      "\u001b[33mWARNING: Ignoring invalid distribution -umpy (/opt/anaconda3/lib/python3.7/site-packages)\u001b[0m\n",
      "\u001b[33mWARNING: Ignoring invalid distribution -ast (/opt/anaconda3/lib/python3.7/site-packages)\u001b[0m\n",
      "\u001b[33mWARNING: Ignoring invalid distribution -umpy (/opt/anaconda3/lib/python3.7/site-packages)\u001b[0m\n",
      "\u001b[33mWARNING: Ignoring invalid distribution -ast (/opt/anaconda3/lib/python3.7/site-packages)\u001b[0m\n",
      "\u001b[33mWARNING: Ignoring invalid distribution -umpy (/opt/anaconda3/lib/python3.7/site-packages)\u001b[0m\n",
      "\u001b[33mWARNING: Ignoring invalid distribution -ast (/opt/anaconda3/lib/python3.7/site-packages)\u001b[0m\n",
      "\u001b[33mWARNING: You are using pip version 21.1.1; however, version 21.3.1 is available.\n",
      "You should consider upgrading via the '/opt/anaconda3/bin/python -m pip install --upgrade pip' command.\u001b[0m\n",
      "\u001b[33mWARNING: Ignoring invalid distribution -umpy (/opt/anaconda3/lib/python3.7/site-packages)\u001b[0m\n",
      "\u001b[33mWARNING: Ignoring invalid distribution -ast (/opt/anaconda3/lib/python3.7/site-packages)\u001b[0m\n",
      "\u001b[33mWARNING: Ignoring invalid distribution -umpy (/opt/anaconda3/lib/python3.7/site-packages)\u001b[0m\n",
      "\u001b[33mWARNING: Ignoring invalid distribution -ast (/opt/anaconda3/lib/python3.7/site-packages)\u001b[0m\n",
      "\u001b[33mWARNING: Ignoring invalid distribution -umpy (/opt/anaconda3/lib/python3.7/site-packages)\u001b[0m\n",
      "\u001b[33mWARNING: Ignoring invalid distribution -ast (/opt/anaconda3/lib/python3.7/site-packages)\u001b[0m\n",
      "\u001b[33mWARNING: Ignoring invalid distribution -umpy (/opt/anaconda3/lib/python3.7/site-packages)\u001b[0m\n",
      "\u001b[33mWARNING: Ignoring invalid distribution -ast (/opt/anaconda3/lib/python3.7/site-packages)\u001b[0m\n",
      "\u001b[33mWARNING: Ignoring invalid distribution -umpy (/opt/anaconda3/lib/python3.7/site-packages)\u001b[0m\n",
      "\u001b[33mWARNING: Ignoring invalid distribution -ast (/opt/anaconda3/lib/python3.7/site-packages)\u001b[0m\n",
      "\u001b[33mWARNING: Ignoring invalid distribution -umpy (/opt/anaconda3/lib/python3.7/site-packages)\u001b[0m\n",
      "\u001b[33mWARNING: Ignoring invalid distribution -ast (/opt/anaconda3/lib/python3.7/site-packages)\u001b[0m\n",
      "\u001b[33mWARNING: You are using pip version 21.1.1; however, version 21.3.1 is available.\n",
      "You should consider upgrading via the '/opt/anaconda3/bin/python -m pip install --upgrade pip' command.\u001b[0m\n",
      "\u001b[33mWARNING: Ignoring invalid distribution -umpy (/opt/anaconda3/lib/python3.7/site-packages)\u001b[0m\n",
      "\u001b[33mWARNING: Ignoring invalid distribution -ast (/opt/anaconda3/lib/python3.7/site-packages)\u001b[0m\n",
      "\u001b[33mWARNING: Ignoring invalid distribution -umpy (/opt/anaconda3/lib/python3.7/site-packages)\u001b[0m\n",
      "\u001b[33mWARNING: Ignoring invalid distribution -ast (/opt/anaconda3/lib/python3.7/site-packages)\u001b[0m\n",
      "\u001b[33mWARNING: Ignoring invalid distribution -umpy (/opt/anaconda3/lib/python3.7/site-packages)\u001b[0m\n",
      "\u001b[33mWARNING: Ignoring invalid distribution -ast (/opt/anaconda3/lib/python3.7/site-packages)\u001b[0m\n",
      "\u001b[33mWARNING: Ignoring invalid distribution -umpy (/opt/anaconda3/lib/python3.7/site-packages)\u001b[0m\n",
      "\u001b[33mWARNING: Ignoring invalid distribution -ast (/opt/anaconda3/lib/python3.7/site-packages)\u001b[0m\n",
      "\u001b[33mWARNING: Ignoring invalid distribution -umpy (/opt/anaconda3/lib/python3.7/site-packages)\u001b[0m\n",
      "\u001b[33mWARNING: Ignoring invalid distribution -ast (/opt/anaconda3/lib/python3.7/site-packages)\u001b[0m\n",
      "\u001b[33mWARNING: Ignoring invalid distribution -umpy (/opt/anaconda3/lib/python3.7/site-packages)\u001b[0m\n",
      "\u001b[33mWARNING: Ignoring invalid distribution -ast (/opt/anaconda3/lib/python3.7/site-packages)\u001b[0m\n",
      "\u001b[33mWARNING: You are using pip version 21.1.1; however, version 21.3.1 is available.\n",
      "You should consider upgrading via the '/opt/anaconda3/bin/python -m pip install --upgrade pip' command.\u001b[0m\n",
      "\u001b[33mWARNING: Ignoring invalid distribution -umpy (/opt/anaconda3/lib/python3.7/site-packages)\u001b[0m\n",
      "\u001b[33mWARNING: Ignoring invalid distribution -ast (/opt/anaconda3/lib/python3.7/site-packages)\u001b[0m\n",
      "\u001b[33mWARNING: Ignoring invalid distribution -umpy (/opt/anaconda3/lib/python3.7/site-packages)\u001b[0m\n",
      "\u001b[33mWARNING: Ignoring invalid distribution -ast (/opt/anaconda3/lib/python3.7/site-packages)\u001b[0m\n",
      "\u001b[33mWARNING: Ignoring invalid distribution -umpy (/opt/anaconda3/lib/python3.7/site-packages)\u001b[0m\n",
      "\u001b[33mWARNING: Ignoring invalid distribution -ast (/opt/anaconda3/lib/python3.7/site-packages)\u001b[0m\n",
      "\u001b[33mWARNING: Ignoring invalid distribution -umpy (/opt/anaconda3/lib/python3.7/site-packages)\u001b[0m\n",
      "\u001b[33mWARNING: Ignoring invalid distribution -ast (/opt/anaconda3/lib/python3.7/site-packages)\u001b[0m\n",
      "\u001b[33mWARNING: Ignoring invalid distribution -umpy (/opt/anaconda3/lib/python3.7/site-packages)\u001b[0m\n",
      "\u001b[33mWARNING: Ignoring invalid distribution -ast (/opt/anaconda3/lib/python3.7/site-packages)\u001b[0m\n",
      "\u001b[33mWARNING: Ignoring invalid distribution -umpy (/opt/anaconda3/lib/python3.7/site-packages)\u001b[0m\n",
      "\u001b[33mWARNING: Ignoring invalid distribution -ast (/opt/anaconda3/lib/python3.7/site-packages)\u001b[0m\n",
      "\u001b[33mWARNING: You are using pip version 21.1.1; however, version 21.3.1 is available.\n",
      "You should consider upgrading via the '/opt/anaconda3/bin/python -m pip install --upgrade pip' command.\u001b[0m\n"
     ]
    },
    {
     "name": "stdout",
     "output_type": "stream",
     "text": [
      "\u001b[33mWARNING: Ignoring invalid distribution -umpy (/opt/anaconda3/lib/python3.7/site-packages)\u001b[0m\n",
      "\u001b[33mWARNING: Ignoring invalid distribution -ast (/opt/anaconda3/lib/python3.7/site-packages)\u001b[0m\n",
      "\u001b[33mWARNING: Ignoring invalid distribution -umpy (/opt/anaconda3/lib/python3.7/site-packages)\u001b[0m\n",
      "\u001b[33mWARNING: Ignoring invalid distribution -ast (/opt/anaconda3/lib/python3.7/site-packages)\u001b[0m\n",
      "\u001b[33mWARNING: Ignoring invalid distribution -umpy (/opt/anaconda3/lib/python3.7/site-packages)\u001b[0m\n",
      "\u001b[33mWARNING: Ignoring invalid distribution -ast (/opt/anaconda3/lib/python3.7/site-packages)\u001b[0m\n",
      "\u001b[33mWARNING: Ignoring invalid distribution -umpy (/opt/anaconda3/lib/python3.7/site-packages)\u001b[0m\n",
      "\u001b[33mWARNING: Ignoring invalid distribution -ast (/opt/anaconda3/lib/python3.7/site-packages)\u001b[0m\n",
      "\u001b[33mWARNING: Ignoring invalid distribution -umpy (/opt/anaconda3/lib/python3.7/site-packages)\u001b[0m\n",
      "\u001b[33mWARNING: Ignoring invalid distribution -ast (/opt/anaconda3/lib/python3.7/site-packages)\u001b[0m\n",
      "\u001b[33mWARNING: Ignoring invalid distribution -umpy (/opt/anaconda3/lib/python3.7/site-packages)\u001b[0m\n",
      "\u001b[33mWARNING: Ignoring invalid distribution -ast (/opt/anaconda3/lib/python3.7/site-packages)\u001b[0m\n",
      "\u001b[33mWARNING: You are using pip version 21.1.1; however, version 21.3.1 is available.\n",
      "You should consider upgrading via the '/opt/anaconda3/bin/python -m pip install --upgrade pip' command.\u001b[0m\n",
      "\u001b[33mWARNING: Ignoring invalid distribution -umpy (/opt/anaconda3/lib/python3.7/site-packages)\u001b[0m\n",
      "\u001b[33mWARNING: Ignoring invalid distribution -ast (/opt/anaconda3/lib/python3.7/site-packages)\u001b[0m\n",
      "\u001b[33mWARNING: Ignoring invalid distribution -umpy (/opt/anaconda3/lib/python3.7/site-packages)\u001b[0m\n",
      "\u001b[33mWARNING: Ignoring invalid distribution -ast (/opt/anaconda3/lib/python3.7/site-packages)\u001b[0m\n",
      "\u001b[33mWARNING: Ignoring invalid distribution -umpy (/opt/anaconda3/lib/python3.7/site-packages)\u001b[0m\n",
      "\u001b[33mWARNING: Ignoring invalid distribution -ast (/opt/anaconda3/lib/python3.7/site-packages)\u001b[0m\n",
      "\u001b[33mWARNING: Ignoring invalid distribution -umpy (/opt/anaconda3/lib/python3.7/site-packages)\u001b[0m\n",
      "\u001b[33mWARNING: Ignoring invalid distribution -ast (/opt/anaconda3/lib/python3.7/site-packages)\u001b[0m\n",
      "\u001b[33mWARNING: Ignoring invalid distribution -umpy (/opt/anaconda3/lib/python3.7/site-packages)\u001b[0m\n",
      "\u001b[33mWARNING: Ignoring invalid distribution -ast (/opt/anaconda3/lib/python3.7/site-packages)\u001b[0m\n",
      "\u001b[33mWARNING: Ignoring invalid distribution -umpy (/opt/anaconda3/lib/python3.7/site-packages)\u001b[0m\n",
      "\u001b[33mWARNING: Ignoring invalid distribution -ast (/opt/anaconda3/lib/python3.7/site-packages)\u001b[0m\n",
      "\u001b[33mWARNING: You are using pip version 21.1.1; however, version 21.3.1 is available.\n",
      "You should consider upgrading via the '/opt/anaconda3/bin/python -m pip install --upgrade pip' command.\u001b[0m\n",
      "\u001b[33mWARNING: Ignoring invalid distribution -umpy (/opt/anaconda3/lib/python3.7/site-packages)\u001b[0m\n",
      "\u001b[33mWARNING: Ignoring invalid distribution -ast (/opt/anaconda3/lib/python3.7/site-packages)\u001b[0m\n",
      "\u001b[33mWARNING: Ignoring invalid distribution -umpy (/opt/anaconda3/lib/python3.7/site-packages)\u001b[0m\n",
      "\u001b[33mWARNING: Ignoring invalid distribution -ast (/opt/anaconda3/lib/python3.7/site-packages)\u001b[0m\n",
      "\u001b[33mWARNING: Ignoring invalid distribution -umpy (/opt/anaconda3/lib/python3.7/site-packages)\u001b[0m\n",
      "\u001b[33mWARNING: Ignoring invalid distribution -ast (/opt/anaconda3/lib/python3.7/site-packages)\u001b[0m\n",
      "\u001b[33mWARNING: Ignoring invalid distribution -umpy (/opt/anaconda3/lib/python3.7/site-packages)\u001b[0m\n",
      "\u001b[33mWARNING: Ignoring invalid distribution -ast (/opt/anaconda3/lib/python3.7/site-packages)\u001b[0m\n",
      "\u001b[33mWARNING: Ignoring invalid distribution -umpy (/opt/anaconda3/lib/python3.7/site-packages)\u001b[0m\n",
      "\u001b[33mWARNING: Ignoring invalid distribution -ast (/opt/anaconda3/lib/python3.7/site-packages)\u001b[0m\n",
      "\u001b[33mWARNING: Ignoring invalid distribution -umpy (/opt/anaconda3/lib/python3.7/site-packages)\u001b[0m\n",
      "\u001b[33mWARNING: Ignoring invalid distribution -ast (/opt/anaconda3/lib/python3.7/site-packages)\u001b[0m\n",
      "\u001b[33mWARNING: You are using pip version 21.1.1; however, version 21.3.1 is available.\n",
      "You should consider upgrading via the '/opt/anaconda3/bin/python -m pip install --upgrade pip' command.\u001b[0m\n",
      "\u001b[33mWARNING: Ignoring invalid distribution -umpy (/opt/anaconda3/lib/python3.7/site-packages)\u001b[0m\n",
      "\u001b[33mWARNING: Ignoring invalid distribution -ast (/opt/anaconda3/lib/python3.7/site-packages)\u001b[0m\n",
      "\u001b[33mWARNING: Ignoring invalid distribution -umpy (/opt/anaconda3/lib/python3.7/site-packages)\u001b[0m\n",
      "\u001b[33mWARNING: Ignoring invalid distribution -ast (/opt/anaconda3/lib/python3.7/site-packages)\u001b[0m\n",
      "\u001b[33mWARNING: Ignoring invalid distribution -umpy (/opt/anaconda3/lib/python3.7/site-packages)\u001b[0m\n",
      "\u001b[33mWARNING: Ignoring invalid distribution -ast (/opt/anaconda3/lib/python3.7/site-packages)\u001b[0m\n",
      "\u001b[33mWARNING: Ignoring invalid distribution -umpy (/opt/anaconda3/lib/python3.7/site-packages)\u001b[0m\n",
      "\u001b[33mWARNING: Ignoring invalid distribution -ast (/opt/anaconda3/lib/python3.7/site-packages)\u001b[0m\n",
      "\u001b[33mWARNING: Ignoring invalid distribution -umpy (/opt/anaconda3/lib/python3.7/site-packages)\u001b[0m\n",
      "\u001b[33mWARNING: Ignoring invalid distribution -ast (/opt/anaconda3/lib/python3.7/site-packages)\u001b[0m\n",
      "\u001b[33mWARNING: Ignoring invalid distribution -umpy (/opt/anaconda3/lib/python3.7/site-packages)\u001b[0m\n",
      "\u001b[33mWARNING: Ignoring invalid distribution -ast (/opt/anaconda3/lib/python3.7/site-packages)\u001b[0m\n",
      "\u001b[33mWARNING: You are using pip version 21.1.1; however, version 21.3.1 is available.\n",
      "You should consider upgrading via the '/opt/anaconda3/bin/python -m pip install --upgrade pip' command.\u001b[0m\n",
      "\u001b[33mWARNING: Ignoring invalid distribution -umpy (/opt/anaconda3/lib/python3.7/site-packages)\u001b[0m\n",
      "\u001b[33mWARNING: Ignoring invalid distribution -ast (/opt/anaconda3/lib/python3.7/site-packages)\u001b[0m\n",
      "\u001b[33mWARNING: Ignoring invalid distribution -umpy (/opt/anaconda3/lib/python3.7/site-packages)\u001b[0m\n",
      "\u001b[33mWARNING: Ignoring invalid distribution -ast (/opt/anaconda3/lib/python3.7/site-packages)\u001b[0m\n",
      "\u001b[33mWARNING: Ignoring invalid distribution -umpy (/opt/anaconda3/lib/python3.7/site-packages)\u001b[0m\n",
      "\u001b[33mWARNING: Ignoring invalid distribution -ast (/opt/anaconda3/lib/python3.7/site-packages)\u001b[0m\n",
      "\u001b[33mWARNING: Ignoring invalid distribution -umpy (/opt/anaconda3/lib/python3.7/site-packages)\u001b[0m\n",
      "\u001b[33mWARNING: Ignoring invalid distribution -ast (/opt/anaconda3/lib/python3.7/site-packages)\u001b[0m\n",
      "\u001b[33mWARNING: Ignoring invalid distribution -umpy (/opt/anaconda3/lib/python3.7/site-packages)\u001b[0m\n",
      "\u001b[33mWARNING: Ignoring invalid distribution -ast (/opt/anaconda3/lib/python3.7/site-packages)\u001b[0m\n",
      "\u001b[33mWARNING: Ignoring invalid distribution -umpy (/opt/anaconda3/lib/python3.7/site-packages)\u001b[0m\n",
      "\u001b[33mWARNING: Ignoring invalid distribution -ast (/opt/anaconda3/lib/python3.7/site-packages)\u001b[0m\n",
      "\u001b[33mWARNING: You are using pip version 21.1.1; however, version 21.3.1 is available.\n",
      "You should consider upgrading via the '/opt/anaconda3/bin/python -m pip install --upgrade pip' command.\u001b[0m\n",
      "\u001b[33mWARNING: Ignoring invalid distribution -umpy (/opt/anaconda3/lib/python3.7/site-packages)\u001b[0m\n",
      "\u001b[33mWARNING: Ignoring invalid distribution -ast (/opt/anaconda3/lib/python3.7/site-packages)\u001b[0m\n",
      "\u001b[33mWARNING: Ignoring invalid distribution -umpy (/opt/anaconda3/lib/python3.7/site-packages)\u001b[0m\n",
      "\u001b[33mWARNING: Ignoring invalid distribution -ast (/opt/anaconda3/lib/python3.7/site-packages)\u001b[0m\n",
      "\u001b[33mWARNING: Ignoring invalid distribution -umpy (/opt/anaconda3/lib/python3.7/site-packages)\u001b[0m\n",
      "\u001b[33mWARNING: Ignoring invalid distribution -ast (/opt/anaconda3/lib/python3.7/site-packages)\u001b[0m\n",
      "\u001b[33mWARNING: Ignoring invalid distribution -umpy (/opt/anaconda3/lib/python3.7/site-packages)\u001b[0m\n",
      "\u001b[33mWARNING: Ignoring invalid distribution -ast (/opt/anaconda3/lib/python3.7/site-packages)\u001b[0m\n",
      "\u001b[33mWARNING: Ignoring invalid distribution -umpy (/opt/anaconda3/lib/python3.7/site-packages)\u001b[0m\n",
      "\u001b[33mWARNING: Ignoring invalid distribution -ast (/opt/anaconda3/lib/python3.7/site-packages)\u001b[0m\n",
      "\u001b[33mWARNING: Ignoring invalid distribution -umpy (/opt/anaconda3/lib/python3.7/site-packages)\u001b[0m\n",
      "\u001b[33mWARNING: Ignoring invalid distribution -ast (/opt/anaconda3/lib/python3.7/site-packages)\u001b[0m\n",
      "\u001b[33mWARNING: You are using pip version 21.1.1; however, version 21.3.1 is available.\n",
      "You should consider upgrading via the '/opt/anaconda3/bin/python -m pip install --upgrade pip' command.\u001b[0m\n"
     ]
    },
    {
     "name": "stdout",
     "output_type": "stream",
     "text": [
      "\u001b[33mWARNING: Ignoring invalid distribution -umpy (/opt/anaconda3/lib/python3.7/site-packages)\u001b[0m\n",
      "\u001b[33mWARNING: Ignoring invalid distribution -ast (/opt/anaconda3/lib/python3.7/site-packages)\u001b[0m\n",
      "\u001b[33mWARNING: Ignoring invalid distribution -umpy (/opt/anaconda3/lib/python3.7/site-packages)\u001b[0m\n",
      "\u001b[33mWARNING: Ignoring invalid distribution -ast (/opt/anaconda3/lib/python3.7/site-packages)\u001b[0m\n",
      "\u001b[33mWARNING: Ignoring invalid distribution -umpy (/opt/anaconda3/lib/python3.7/site-packages)\u001b[0m\n",
      "\u001b[33mWARNING: Ignoring invalid distribution -ast (/opt/anaconda3/lib/python3.7/site-packages)\u001b[0m\n",
      "\u001b[33mWARNING: Ignoring invalid distribution -umpy (/opt/anaconda3/lib/python3.7/site-packages)\u001b[0m\n",
      "\u001b[33mWARNING: Ignoring invalid distribution -ast (/opt/anaconda3/lib/python3.7/site-packages)\u001b[0m\n",
      "\u001b[33mWARNING: Ignoring invalid distribution -umpy (/opt/anaconda3/lib/python3.7/site-packages)\u001b[0m\n",
      "\u001b[33mWARNING: Ignoring invalid distribution -ast (/opt/anaconda3/lib/python3.7/site-packages)\u001b[0m\n",
      "\u001b[33mWARNING: Ignoring invalid distribution -umpy (/opt/anaconda3/lib/python3.7/site-packages)\u001b[0m\n",
      "\u001b[33mWARNING: Ignoring invalid distribution -ast (/opt/anaconda3/lib/python3.7/site-packages)\u001b[0m\n",
      "\u001b[33mWARNING: You are using pip version 21.1.1; however, version 21.3.1 is available.\n",
      "You should consider upgrading via the '/opt/anaconda3/bin/python -m pip install --upgrade pip' command.\u001b[0m\n",
      "\u001b[33mWARNING: Ignoring invalid distribution -umpy (/opt/anaconda3/lib/python3.7/site-packages)\u001b[0m\n",
      "\u001b[33mWARNING: Ignoring invalid distribution -ast (/opt/anaconda3/lib/python3.7/site-packages)\u001b[0m\n",
      "\u001b[33mWARNING: Ignoring invalid distribution -umpy (/opt/anaconda3/lib/python3.7/site-packages)\u001b[0m\n",
      "\u001b[33mWARNING: Ignoring invalid distribution -ast (/opt/anaconda3/lib/python3.7/site-packages)\u001b[0m\n",
      "Requirement already satisfied: networkx in /opt/anaconda3/lib/python3.7/site-packages (2.6.3)\n",
      "\u001b[33mWARNING: Ignoring invalid distribution -umpy (/opt/anaconda3/lib/python3.7/site-packages)\u001b[0m\n",
      "\u001b[33mWARNING: Ignoring invalid distribution -ast (/opt/anaconda3/lib/python3.7/site-packages)\u001b[0m\n",
      "\u001b[33mWARNING: Ignoring invalid distribution -umpy (/opt/anaconda3/lib/python3.7/site-packages)\u001b[0m\n",
      "\u001b[33mWARNING: Ignoring invalid distribution -ast (/opt/anaconda3/lib/python3.7/site-packages)\u001b[0m\n",
      "\u001b[33mWARNING: Ignoring invalid distribution -umpy (/opt/anaconda3/lib/python3.7/site-packages)\u001b[0m\n",
      "\u001b[33mWARNING: Ignoring invalid distribution -ast (/opt/anaconda3/lib/python3.7/site-packages)\u001b[0m\n",
      "\u001b[33mWARNING: Ignoring invalid distribution -umpy (/opt/anaconda3/lib/python3.7/site-packages)\u001b[0m\n",
      "\u001b[33mWARNING: Ignoring invalid distribution -ast (/opt/anaconda3/lib/python3.7/site-packages)\u001b[0m\n",
      "\u001b[33mWARNING: You are using pip version 21.1.1; however, version 21.3.1 is available.\n",
      "You should consider upgrading via the '/opt/anaconda3/bin/python -m pip install --upgrade pip' command.\u001b[0m\n",
      "\u001b[33mWARNING: Ignoring invalid distribution -umpy (/opt/anaconda3/lib/python3.7/site-packages)\u001b[0m\n",
      "\u001b[33mWARNING: Ignoring invalid distribution -ast (/opt/anaconda3/lib/python3.7/site-packages)\u001b[0m\n",
      "\u001b[33mWARNING: Ignoring invalid distribution -umpy (/opt/anaconda3/lib/python3.7/site-packages)\u001b[0m\n",
      "\u001b[33mWARNING: Ignoring invalid distribution -ast (/opt/anaconda3/lib/python3.7/site-packages)\u001b[0m\n",
      "Requirement already satisfied: matplotlib in /opt/anaconda3/lib/python3.7/site-packages (3.1.1)\n",
      "Requirement already satisfied: numpy>=1.11 in /opt/anaconda3/lib/python3.7/site-packages (from matplotlib) (1.19.5)\n",
      "Requirement already satisfied: pyparsing!=2.0.4,!=2.1.2,!=2.1.6,>=2.0.1 in /opt/anaconda3/lib/python3.7/site-packages (from matplotlib) (2.4.7)\n",
      "Requirement already satisfied: kiwisolver>=1.0.1 in /opt/anaconda3/lib/python3.7/site-packages (from matplotlib) (1.1.0)\n",
      "Requirement already satisfied: python-dateutil>=2.1 in /opt/anaconda3/lib/python3.7/site-packages (from matplotlib) (2.8.1)\n",
      "Requirement already satisfied: cycler>=0.10 in /opt/anaconda3/lib/python3.7/site-packages (from matplotlib) (0.10.0)\n",
      "Requirement already satisfied: six in /opt/anaconda3/lib/python3.7/site-packages (from cycler>=0.10->matplotlib) (1.15.0)\n",
      "Requirement already satisfied: setuptools in /opt/anaconda3/lib/python3.7/site-packages (from kiwisolver>=1.0.1->matplotlib) (51.0.0.post20201207)\n",
      "\u001b[33mWARNING: Ignoring invalid distribution -umpy (/opt/anaconda3/lib/python3.7/site-packages)\u001b[0m\n",
      "\u001b[33mWARNING: Ignoring invalid distribution -ast (/opt/anaconda3/lib/python3.7/site-packages)\u001b[0m\n",
      "\u001b[33mWARNING: Ignoring invalid distribution -umpy (/opt/anaconda3/lib/python3.7/site-packages)\u001b[0m\n",
      "\u001b[33mWARNING: Ignoring invalid distribution -ast (/opt/anaconda3/lib/python3.7/site-packages)\u001b[0m\n",
      "\u001b[33mWARNING: Ignoring invalid distribution -umpy (/opt/anaconda3/lib/python3.7/site-packages)\u001b[0m\n",
      "\u001b[33mWARNING: Ignoring invalid distribution -ast (/opt/anaconda3/lib/python3.7/site-packages)\u001b[0m\n",
      "\u001b[33mWARNING: Ignoring invalid distribution -umpy (/opt/anaconda3/lib/python3.7/site-packages)\u001b[0m\n",
      "\u001b[33mWARNING: Ignoring invalid distribution -ast (/opt/anaconda3/lib/python3.7/site-packages)\u001b[0m\n",
      "\u001b[33mWARNING: You are using pip version 21.1.1; however, version 21.3.1 is available.\n",
      "You should consider upgrading via the '/opt/anaconda3/bin/python -m pip install --upgrade pip' command.\u001b[0m\n",
      "\u001b[33mWARNING: Ignoring invalid distribution -umpy (/opt/anaconda3/lib/python3.7/site-packages)\u001b[0m\n",
      "\u001b[33mWARNING: Ignoring invalid distribution -ast (/opt/anaconda3/lib/python3.7/site-packages)\u001b[0m\n",
      "\u001b[33mWARNING: Ignoring invalid distribution -umpy (/opt/anaconda3/lib/python3.7/site-packages)\u001b[0m\n",
      "\u001b[33mWARNING: Ignoring invalid distribution -ast (/opt/anaconda3/lib/python3.7/site-packages)\u001b[0m\n",
      "Requirement already satisfied: pycm in /opt/anaconda3/lib/python3.7/site-packages (3.3)\n",
      "Requirement already satisfied: art>=1.8 in /opt/anaconda3/lib/python3.7/site-packages (from pycm) (5.3)\n",
      "Requirement already satisfied: numpy>=1.9.0 in /opt/anaconda3/lib/python3.7/site-packages (from pycm) (1.19.5)\n",
      "\u001b[33mWARNING: Ignoring invalid distribution -umpy (/opt/anaconda3/lib/python3.7/site-packages)\u001b[0m\n",
      "\u001b[33mWARNING: Ignoring invalid distribution -ast (/opt/anaconda3/lib/python3.7/site-packages)\u001b[0m\n",
      "\u001b[33mWARNING: Ignoring invalid distribution -umpy (/opt/anaconda3/lib/python3.7/site-packages)\u001b[0m\n",
      "\u001b[33mWARNING: Ignoring invalid distribution -ast (/opt/anaconda3/lib/python3.7/site-packages)\u001b[0m\n",
      "\u001b[33mWARNING: Ignoring invalid distribution -umpy (/opt/anaconda3/lib/python3.7/site-packages)\u001b[0m\n",
      "\u001b[33mWARNING: Ignoring invalid distribution -ast (/opt/anaconda3/lib/python3.7/site-packages)\u001b[0m\n",
      "\u001b[33mWARNING: Ignoring invalid distribution -umpy (/opt/anaconda3/lib/python3.7/site-packages)\u001b[0m\n",
      "\u001b[33mWARNING: Ignoring invalid distribution -ast (/opt/anaconda3/lib/python3.7/site-packages)\u001b[0m\n",
      "\u001b[33mWARNING: You are using pip version 21.1.1; however, version 21.3.1 is available.\n",
      "You should consider upgrading via the '/opt/anaconda3/bin/python -m pip install --upgrade pip' command.\u001b[0m\n",
      "causality packages imported successfully\n"
     ]
    }
   ],
   "source": [
    "#### Imports ####\n",
    "\n",
    "# Install a pip package in the current Jupyter kernel\n",
    "import sys\n",
    "!{sys.executable} -m pip install causality\n",
    "# Install a pip package in the current Jupyter kernel\n",
    "import sys\n",
    "!{sys.executable} -m pip install pandas\n",
    "!{sys.executable} -m pip install decorator>=4.1.2\n",
    "!{sys.executable} -m pip install networkx>=2.0\n",
    "!{sys.executable} -m pip install numpy>=1.13.3\n",
    "!{sys.executable} -m pip install pandas>=0.20.3\n",
    "!{sys.executable} -m pip install patsy>=0.4.1\n",
    "!{sys.executable} -m pip install python-dateutil>=2.6.1\n",
    "!{sys.executable} -m pip install pytz>=2017.2\n",
    "!{sys.executable} -m pip install scipy>=0.19.1\n",
    "!{sys.executable} -m pip install six>=1.11.0\n",
    "!{sys.executable} -m pip install statsmodels>=0.8.0\n",
    "\n",
    "!{sys.executable} -m pip install networkx\n",
    "!{sys.executable} -m pip install matplotlib\n",
    "!{sys.executable} -m pip install pycm\n",
    "\n",
    "\n",
    "# causality imports\n",
    "# IC Algorithm Tutorial: https://pypi.org/project/causality/\n",
    "import numpy\n",
    "import pandas as pd\n",
    "import networkx as nx\n",
    "import matplotlib.pyplot as plt\n",
    "import time\n",
    "\n",
    "\n",
    "from causality.inference.search import IC\n",
    "from causality.inference.independence_tests import RobustRegressionTest\n",
    "\n",
    "from sklearn.metrics import roc_curve\n",
    "from sklearn.metrics import roc_auc_score\n",
    "from sklearn.metrics import precision_recall_curve, roc_curve, auc, average_precision_score\n",
    "from sklearn.metrics import confusion_matrix\n",
    "\n",
    "from pycm import *\n",
    "\n",
    "\n",
    "print('causality packages imported successfully')"
   ]
  },
  {
   "cell_type": "code",
   "execution_count": 85,
   "metadata": {},
   "outputs": [
    {
     "data": {
      "text/html": [
       "<div>\n",
       "<style scoped>\n",
       "    .dataframe tbody tr th:only-of-type {\n",
       "        vertical-align: middle;\n",
       "    }\n",
       "\n",
       "    .dataframe tbody tr th {\n",
       "        vertical-align: top;\n",
       "    }\n",
       "\n",
       "    .dataframe thead th {\n",
       "        text-align: right;\n",
       "    }\n",
       "</style>\n",
       "<table border=\"1\" class=\"dataframe\">\n",
       "  <thead>\n",
       "    <tr style=\"text-align: right;\">\n",
       "      <th></th>\n",
       "      <th>G1</th>\n",
       "      <th>G2</th>\n",
       "      <th>G3</th>\n",
       "      <th>G4</th>\n",
       "      <th>G5</th>\n",
       "      <th>G6</th>\n",
       "      <th>G7</th>\n",
       "      <th>G8</th>\n",
       "      <th>G9</th>\n",
       "      <th>G10</th>\n",
       "    </tr>\n",
       "  </thead>\n",
       "  <tbody>\n",
       "    <tr>\n",
       "      <th>0</th>\n",
       "      <td>0.977810</td>\n",
       "      <td>0.890699</td>\n",
       "      <td>0.314776</td>\n",
       "      <td>0.913740</td>\n",
       "      <td>0.990049</td>\n",
       "      <td>0.233521</td>\n",
       "      <td>0.984463</td>\n",
       "      <td>0.652573</td>\n",
       "      <td>0.558600</td>\n",
       "      <td>0.747473</td>\n",
       "    </tr>\n",
       "    <tr>\n",
       "      <th>1</th>\n",
       "      <td>0.908569</td>\n",
       "      <td>0.804960</td>\n",
       "      <td>0.301375</td>\n",
       "      <td>0.850622</td>\n",
       "      <td>0.871873</td>\n",
       "      <td>0.354209</td>\n",
       "      <td>0.597520</td>\n",
       "      <td>0.587207</td>\n",
       "      <td>0.676013</td>\n",
       "      <td>0.817051</td>\n",
       "    </tr>\n",
       "    <tr>\n",
       "      <th>2</th>\n",
       "      <td>0.849795</td>\n",
       "      <td>0.740435</td>\n",
       "      <td>0.290248</td>\n",
       "      <td>0.798705</td>\n",
       "      <td>0.780615</td>\n",
       "      <td>0.455891</td>\n",
       "      <td>0.380882</td>\n",
       "      <td>0.534411</td>\n",
       "      <td>0.762194</td>\n",
       "      <td>0.867446</td>\n",
       "    </tr>\n",
       "    <tr>\n",
       "      <th>3</th>\n",
       "      <td>0.799904</td>\n",
       "      <td>0.691864</td>\n",
       "      <td>0.280996</td>\n",
       "      <td>0.755968</td>\n",
       "      <td>0.709997</td>\n",
       "      <td>0.541561</td>\n",
       "      <td>0.260797</td>\n",
       "      <td>0.491939</td>\n",
       "      <td>0.825451</td>\n",
       "      <td>0.903935</td>\n",
       "    </tr>\n",
       "    <tr>\n",
       "      <th>4</th>\n",
       "      <td>0.757555</td>\n",
       "      <td>0.655290</td>\n",
       "      <td>0.273291</td>\n",
       "      <td>0.720753</td>\n",
       "      <td>0.655323</td>\n",
       "      <td>0.613739</td>\n",
       "      <td>0.195486</td>\n",
       "      <td>0.457932</td>\n",
       "      <td>0.871881</td>\n",
       "      <td>0.930341</td>\n",
       "    </tr>\n",
       "    <tr>\n",
       "      <th>...</th>\n",
       "      <td>...</td>\n",
       "      <td>...</td>\n",
       "      <td>...</td>\n",
       "      <td>...</td>\n",
       "      <td>...</td>\n",
       "      <td>...</td>\n",
       "      <td>...</td>\n",
       "      <td>...</td>\n",
       "      <td>...</td>\n",
       "      <td>...</td>\n",
       "    </tr>\n",
       "    <tr>\n",
       "      <th>79</th>\n",
       "      <td>0.510037</td>\n",
       "      <td>0.543340</td>\n",
       "      <td>0.254709</td>\n",
       "      <td>0.558728</td>\n",
       "      <td>0.476937</td>\n",
       "      <td>0.943312</td>\n",
       "      <td>0.175690</td>\n",
       "      <td>0.355065</td>\n",
       "      <td>0.997761</td>\n",
       "      <td>0.996301</td>\n",
       "    </tr>\n",
       "    <tr>\n",
       "      <th>80</th>\n",
       "      <td>0.511503</td>\n",
       "      <td>0.543012</td>\n",
       "      <td>0.250294</td>\n",
       "      <td>0.557723</td>\n",
       "      <td>0.476089</td>\n",
       "      <td>0.952206</td>\n",
       "      <td>0.175354</td>\n",
       "      <td>0.351908</td>\n",
       "      <td>0.998357</td>\n",
       "      <td>0.996604</td>\n",
       "    </tr>\n",
       "    <tr>\n",
       "      <th>81</th>\n",
       "      <td>0.512748</td>\n",
       "      <td>0.542772</td>\n",
       "      <td>0.246671</td>\n",
       "      <td>0.556890</td>\n",
       "      <td>0.475411</td>\n",
       "      <td>0.959699</td>\n",
       "      <td>0.175065</td>\n",
       "      <td>0.349322</td>\n",
       "      <td>0.998794</td>\n",
       "      <td>0.996816</td>\n",
       "    </tr>\n",
       "    <tr>\n",
       "      <th>82</th>\n",
       "      <td>0.513804</td>\n",
       "      <td>0.542595</td>\n",
       "      <td>0.243697</td>\n",
       "      <td>0.556200</td>\n",
       "      <td>0.474867</td>\n",
       "      <td>0.966012</td>\n",
       "      <td>0.174815</td>\n",
       "      <td>0.347203</td>\n",
       "      <td>0.999115</td>\n",
       "      <td>0.996963</td>\n",
       "    </tr>\n",
       "    <tr>\n",
       "      <th>83</th>\n",
       "      <td>0.514701</td>\n",
       "      <td>0.542467</td>\n",
       "      <td>0.241256</td>\n",
       "      <td>0.555628</td>\n",
       "      <td>0.474431</td>\n",
       "      <td>0.971332</td>\n",
       "      <td>0.174599</td>\n",
       "      <td>0.345465</td>\n",
       "      <td>0.999350</td>\n",
       "      <td>0.997065</td>\n",
       "    </tr>\n",
       "  </tbody>\n",
       "</table>\n",
       "<p>84 rows × 10 columns</p>\n",
       "</div>"
      ],
      "text/plain": [
       "          G1        G2        G3        G4        G5        G6        G7  \\\n",
       "0   0.977810  0.890699  0.314776  0.913740  0.990049  0.233521  0.984463   \n",
       "1   0.908569  0.804960  0.301375  0.850622  0.871873  0.354209  0.597520   \n",
       "2   0.849795  0.740435  0.290248  0.798705  0.780615  0.455891  0.380882   \n",
       "3   0.799904  0.691864  0.280996  0.755968  0.709997  0.541561  0.260797   \n",
       "4   0.757555  0.655290  0.273291  0.720753  0.655323  0.613739  0.195486   \n",
       "..       ...       ...       ...       ...       ...       ...       ...   \n",
       "79  0.510037  0.543340  0.254709  0.558728  0.476937  0.943312  0.175690   \n",
       "80  0.511503  0.543012  0.250294  0.557723  0.476089  0.952206  0.175354   \n",
       "81  0.512748  0.542772  0.246671  0.556890  0.475411  0.959699  0.175065   \n",
       "82  0.513804  0.542595  0.243697  0.556200  0.474867  0.966012  0.174815   \n",
       "83  0.514701  0.542467  0.241256  0.555628  0.474431  0.971332  0.174599   \n",
       "\n",
       "          G8        G9       G10  \n",
       "0   0.652573  0.558600  0.747473  \n",
       "1   0.587207  0.676013  0.817051  \n",
       "2   0.534411  0.762194  0.867446  \n",
       "3   0.491939  0.825451  0.903935  \n",
       "4   0.457932  0.871881  0.930341  \n",
       "..       ...       ...       ...  \n",
       "79  0.355065  0.997761  0.996301  \n",
       "80  0.351908  0.998357  0.996604  \n",
       "81  0.349322  0.998794  0.996816  \n",
       "82  0.347203  0.999115  0.996963  \n",
       "83  0.345465  0.999350  0.997065  \n",
       "\n",
       "[84 rows x 10 columns]"
      ]
     },
     "execution_count": 85,
     "metadata": {},
     "output_type": "execute_result"
    }
   ],
   "source": [
    "def load_data_to_dataframe():\n",
    "    # load the data into a dataframe:\n",
    "    data_df = pd.read_csv('InSilicoSize10-Yeast3-nonoise-trajectories.tsv', sep='\\t', header=0)\n",
    "    data_df = data_df.drop(['Time'], axis=1)\n",
    "    return data_df\n",
    "\n",
    "yeast3_data_df = load_data_to_dataframe()\n",
    "yeast3_data_df\n",
    "    \n",
    "def load_data_to_dataframe():\n",
    "    # load the data into a dataframe:\n",
    "    data_df = pd.read_csv('InSilicoSize10-Yeast2-nonoise-trajectories.tsv', sep='\\t', header=0)\n",
    "    data_df = data_df.drop(['Time'], axis=1)\n",
    "    return data_df\n",
    "\n",
    "yeast2_data_df = load_data_to_dataframe()\n",
    "yeast2_data_df\n",
    "\n",
    "def load_data_to_dataframe():\n",
    "    # load the data into a dataframe:\n",
    "    data_df = pd.read_csv('InSilicoSize10-Yeast1-nonoise-trajectories.tsv', sep='\\t', header=0)\n",
    "    data_df = data_df.drop(['Time'], axis=1)\n",
    "    return data_df\n",
    "\n",
    "yeast1_data_df = load_data_to_dataframe()\n",
    "yeast1_data_df\n",
    "\n",
    "def load_data_to_dataframe():\n",
    "    # load the data into a dataframe:\n",
    "    data_df = pd.read_csv('InSilicoSize10-Ecoli1-nonoise-trajectories.tsv', sep='\\t', header=0)\n",
    "    data_df = data_df.drop(['Time'], axis=1)\n",
    "    return data_df\n",
    "\n",
    "ecoli1_data_df = load_data_to_dataframe()\n",
    "ecoli1_data_df\n",
    "\n",
    "def load_data_to_dataframe():\n",
    "    # load the data into a dataframe:\n",
    "    data_df = pd.read_csv('InSilicoSize10-Ecoli2-nonoise-trajectories.tsv', sep='\\t', header=0)\n",
    "    data_df = data_df.drop(['Time'], axis=1)\n",
    "    return data_df\n",
    "\n",
    "ecoli2_data_df = load_data_to_dataframe()\n",
    "ecoli2_data_df"
   ]
  },
  {
   "cell_type": "code",
   "execution_count": 92,
   "metadata": {},
   "outputs": [
    {
     "name": "stdout",
     "output_type": "stream",
     "text": [
      "10\n",
      "10\n",
      "10\n",
      "10\n",
      "10\n",
      "10\n",
      "10\n",
      "10\n",
      "10\n",
      "10\n"
     ]
    }
   ],
   "source": [
    "columns_list = []\n",
    "number_of_columns = 0\n",
    "\n",
    "def columns_to_list(data_df):\n",
    "    # Save headers/column names to a list\n",
    "    columns_list = list(data_df.columns)\n",
    "    \n",
    "    return columns_list\n",
    "\n",
    "def column_length(columns_list):\n",
    "    # Save the number of columns/headers present in the dataset\n",
    "    number_of_columns = len(columns_list)\n",
    "    print(number_of_columns)\n",
    "    \n",
    "    return number_of_columns\n",
    "\n",
    "columns_list_yeast3 = columns_to_list(yeast3_data_df) \n",
    "number_of_columns_yeast3 = column_length(columns_list_yeast3)\n",
    "\n",
    "print(number_of_columns_yeast3)\n",
    "\n",
    "columns_list_yeast2 = columns_to_list(yeast2_data_df) \n",
    "number_of_columns_yeast2 = column_length(columns_list_yeast2)\n",
    "\n",
    "print(number_of_columns_yeast2)\n",
    "\n",
    "columns_list_yeast1 = columns_to_list(yeast1_data_df) \n",
    "number_of_columns_yeast1 = column_length(columns_list_yeast1)\n",
    "\n",
    "print(number_of_columns_yeast1)\n",
    "\n",
    "\n",
    "columns_list_ecoli2 = columns_to_list(ecoli2_data_df) \n",
    "number_of_columns_ecoli2 = column_length(columns_list_ecoli2)\n",
    "\n",
    "print(number_of_columns_ecoli2)\n",
    "\n",
    "columns_list_ecoli1 = columns_to_list(ecoli1_data_df) \n",
    "number_of_columns_ecoli1 = column_length(columns_list_ecoli1)\n",
    "\n",
    "print(number_of_columns_ecoli1)"
   ]
  },
  {
   "cell_type": "code",
   "execution_count": 73,
   "metadata": {},
   "outputs": [],
   "source": [
    "# Create a list of 'c's to denote continuous variables for the headers/columns/variables given in the dataset\n",
    "c_list = []\n",
    "\n",
    "def c_list_maker(n):\n",
    "    c_list = ['c'] * n\n",
    "    return c_list\n",
    "\n",
    "c_value = c_list_maker(number_of_columns)"
   ]
  },
  {
   "cell_type": "code",
   "execution_count": 97,
   "metadata": {},
   "outputs": [
    {
     "name": "stdout",
     "output_type": "stream",
     "text": [
      "['G1', 'c', 'G2', 'c', 'G3', 'c', 'G4', 'c', 'G5', 'c', 'G6', 'c', 'G7', 'c', 'G8', 'c', 'G9', 'c', 'G10', 'c']\n",
      "['G1', 'c', 'G2', 'c', 'G3', 'c', 'G4', 'c', 'G5', 'c', 'G6', 'c', 'G7', 'c', 'G8', 'c', 'G9', 'c', 'G10', 'c']\n",
      "['G1', 'c', 'G2', 'c', 'G3', 'c', 'G4', 'c', 'G5', 'c', 'G6', 'c', 'G7', 'c', 'G8', 'c', 'G9', 'c', 'G10', 'c']\n",
      "['G1', 'c', 'G2', 'c', 'G3', 'c', 'G4', 'c', 'G5', 'c', 'G6', 'c', 'G7', 'c', 'G8', 'c', 'G9', 'c', 'G10', 'c']\n",
      "['G1', 'c', 'G2', 'c', 'G3', 'c', 'G4', 'c', 'G5', 'c', 'G6', 'c', 'G7', 'c', 'G8', 'c', 'G9', 'c', 'G10', 'c']\n"
     ]
    }
   ],
   "source": [
    "# Merge headers list and type of variable list\n",
    "final_list = []\n",
    "\n",
    "def column_value(columns_list, c_value):\n",
    "    final_list = []\n",
    "    for (item1, item2) in zip(columns_list, c_value):\n",
    "        final_list.append(item1)\n",
    "        final_list.append(item2)\n",
    "    return final_list\n",
    "\n",
    "final_list_yeast3 = column_value(columns_list_yeast3, c_value)\n",
    "print(final_list_yeast3)\n",
    "\n",
    "final_list_yeast2 = column_value(columns_list_yeast2, c_value)\n",
    "print(final_list_yeast2)\n",
    "\n",
    "final_list_yeast1 = column_value(columns_list_yeast1, c_value)\n",
    "print(final_list_yeast1)\n",
    "\n",
    "final_list_ecoli2 = column_value(columns_list_ecoli2, c_value)\n",
    "print(final_list_ecoli2)\n",
    "\n",
    "final_list_ecoli1 = column_value(columns_list_ecoli1, c_value)\n",
    "print(final_list_ecoli1)"
   ]
  },
  {
   "cell_type": "code",
   "execution_count": 99,
   "metadata": {},
   "outputs": [
    {
     "name": "stdout",
     "output_type": "stream",
     "text": [
      "{'G1': 'c', 'G2': 'c', 'G3': 'c', 'G4': 'c', 'G5': 'c', 'G6': 'c', 'G7': 'c', 'G8': 'c', 'G9': 'c', 'G10': 'c'}\n",
      "{'G1': 'c', 'G2': 'c', 'G3': 'c', 'G4': 'c', 'G5': 'c', 'G6': 'c', 'G7': 'c', 'G8': 'c', 'G9': 'c', 'G10': 'c'}\n",
      "{'G1': 'c', 'G2': 'c', 'G3': 'c', 'G4': 'c', 'G5': 'c', 'G6': 'c', 'G7': 'c', 'G8': 'c', 'G9': 'c', 'G10': 'c'}\n",
      "{'G1': 'c', 'G2': 'c', 'G3': 'c', 'G4': 'c', 'G5': 'c', 'G6': 'c', 'G7': 'c', 'G8': 'c', 'G9': 'c', 'G10': 'c'}\n",
      "{'G1': 'c', 'G2': 'c', 'G3': 'c', 'G4': 'c', 'G5': 'c', 'G6': 'c', 'G7': 'c', 'G8': 'c', 'G9': 'c', 'G10': 'c'}\n"
     ]
    }
   ],
   "source": [
    "header_dct = {}\n",
    "\n",
    "# Convert list to dictionary\n",
    "def convert_list_to_dict(final_list):\n",
    "    header_dct = {final_list[i]: final_list[1] for i in range(0, len(final_list), 2)}\n",
    "    return header_dct\n",
    "\n",
    "header_dct_yeast3 = convert_list_to_dict(final_list_yeast3)\n",
    "# Check if converted correctly\n",
    "print(header_dct_yeast3)\n",
    "\n",
    "header_dct_yeast2 = convert_list_to_dict(final_list_yeast2)\n",
    "# Check if converted correctly\n",
    "print(header_dct_yeast2)\n",
    "\n",
    "\n",
    "header_dct_yeast1 = convert_list_to_dict(final_list_yeast1)\n",
    "# Check if converted correctly\n",
    "print(header_dct_yeast1)\n",
    "\n",
    "header_dct_ecoli2 = convert_list_to_dict(final_list_ecoli2)\n",
    "# Check if converted correctly\n",
    "print(header_dct_ecoli2)\n",
    "\n",
    "header_dct_ecoli1 = convert_list_to_dict(final_list_ecoli1)\n",
    "# Check if converted correctly\n",
    "print(header_dct_ecoli1)"
   ]
  },
  {
   "cell_type": "code",
   "execution_count": 101,
   "metadata": {},
   "outputs": [
    {
     "name": "stdout",
     "output_type": "stream",
     "text": [
      "6.649773836135864\n",
      "IC Algorithm successfully run\n",
      "8.009706020355225\n",
      "IC Algorithm successfully run\n",
      "6.7366273403167725\n",
      "IC Algorithm successfully run\n",
      "6.452401876449585\n",
      "IC Algorithm successfully run\n",
      "6.756134033203125\n",
      "IC Algorithm successfully run\n"
     ]
    }
   ],
   "source": [
    "# Run the IC Search Algorithm\n",
    "def run_IC(data_df, header_dct):\n",
    "    \n",
    "    # Check time Elapsed for IC Algorithm to run\n",
    "    # Time in seconds\n",
    "    start = time.time()\n",
    "    \n",
    "    # run the IC search\n",
    "    ic_algorithm = IC(RobustRegressionTest)\n",
    "    graph = ic_algorithm.search(data_df, header_dct)\n",
    "    \n",
    "    end = time.time()\n",
    "    print(end - start)\n",
    "    print(\"IC Algorithm successfully run\")\n",
    "    return graph\n",
    "    \n",
    "graph_yeast3 = run_IC(yeast3_data_df, header_dct_yeast3)\n",
    "graph_yeast2 = run_IC(yeast2_data_df, header_dct_yeast2)\n",
    "graph_yeast1 = run_IC(yeast3_data_df, header_dct_yeast1)\n",
    "graph_ecoli2 = run_IC(yeast3_data_df, header_dct_ecoli2)\n",
    "graph_ecoli1 = run_IC(yeast3_data_df, header_dct_ecoli1)"
   ]
  },
  {
   "cell_type": "code",
   "execution_count": 102,
   "metadata": {},
   "outputs": [
    {
     "data": {
      "text/plain": [
       "EdgeDataView([('G1', 'G5', {'marked': False, 'arrows': ['G5']}), ('G2', 'G8', {'marked': False, 'arrows': ['G2']}), ('G2', 'G10', {'marked': False, 'arrows': ['G2', 'G10']}), ('G3', 'G9', {'marked': False, 'arrows': ['G9']}), ('G4', 'G5', {'marked': False, 'arrows': ['G5']}), ('G6', 'G9', {'marked': True, 'arrows': ['G6']}), ('G6', 'G10', {'marked': True, 'arrows': ['G6']}), ('G7', 'G8', {'marked': False, 'arrows': []}), ('G9', 'G10', {'marked': False, 'arrows': ['G9', 'G10']})])"
      ]
     },
     "execution_count": 102,
     "metadata": {},
     "output_type": "execute_result"
    }
   ],
   "source": [
    "graph_yeast3.edges(data=True)"
   ]
  },
  {
   "cell_type": "code",
   "execution_count": 104,
   "metadata": {},
   "outputs": [
    {
     "data": {
      "text/plain": [
       "EdgeDataView([('G1', 'G7', {'marked': False, 'arrows': ['G1', 'G7']}), ('G1', 'G8', {'marked': False, 'arrows': ['G1', 'G8']}), ('G1', 'G9', {'marked': False, 'arrows': ['G1', 'G1', 'G9', 'G9']}), ('G2', 'G5', {'marked': False, 'arrows': ['G2', 'G5']}), ('G2', 'G7', {'marked': True, 'arrows': ['G2', 'G2']}), ('G2', 'G10', {'marked': False, 'arrows': ['G2', 'G2', 'G10']}), ('G3', 'G4', {'marked': False, 'arrows': []}), ('G3', 'G10', {'marked': False, 'arrows': ['G10']}), ('G4', 'G10', {'marked': True, 'arrows': ['G4']}), ('G5', 'G9', {'marked': False, 'arrows': ['G5', 'G9']}), ('G6', 'G7', {'marked': False, 'arrows': ['G6', 'G7']}), ('G6', 'G8', {'marked': False, 'arrows': ['G6', 'G8']}), ('G6', 'G9', {'marked': False, 'arrows': ['G6', 'G6', 'G9']}), ('G7', 'G8', {'marked': False, 'arrows': []})])"
      ]
     },
     "execution_count": 104,
     "metadata": {},
     "output_type": "execute_result"
    }
   ],
   "source": [
    "graph_yeast2.edges(data=True)"
   ]
  },
  {
   "cell_type": "code",
   "execution_count": 105,
   "metadata": {},
   "outputs": [
    {
     "data": {
      "text/plain": [
       "EdgeDataView([('G1', 'G5', {'marked': False, 'arrows': ['G5']}), ('G2', 'G8', {'marked': False, 'arrows': ['G2']}), ('G2', 'G10', {'marked': False, 'arrows': ['G2', 'G10']}), ('G3', 'G9', {'marked': False, 'arrows': ['G9']}), ('G4', 'G5', {'marked': False, 'arrows': ['G5']}), ('G6', 'G9', {'marked': True, 'arrows': ['G6']}), ('G6', 'G10', {'marked': True, 'arrows': ['G6']}), ('G7', 'G8', {'marked': False, 'arrows': []}), ('G9', 'G10', {'marked': False, 'arrows': ['G9', 'G10']})])"
      ]
     },
     "execution_count": 105,
     "metadata": {},
     "output_type": "execute_result"
    }
   ],
   "source": [
    "graph_yeast1.edges(data=True)"
   ]
  },
  {
   "cell_type": "code",
   "execution_count": 106,
   "metadata": {},
   "outputs": [
    {
     "data": {
      "text/plain": [
       "EdgeDataView([('G1', 'G5', {'marked': False, 'arrows': ['G5']}), ('G2', 'G8', {'marked': False, 'arrows': ['G2']}), ('G2', 'G10', {'marked': False, 'arrows': ['G2', 'G10']}), ('G3', 'G9', {'marked': False, 'arrows': ['G9']}), ('G4', 'G5', {'marked': False, 'arrows': ['G5']}), ('G6', 'G9', {'marked': True, 'arrows': ['G6']}), ('G6', 'G10', {'marked': True, 'arrows': ['G6']}), ('G7', 'G8', {'marked': False, 'arrows': []}), ('G9', 'G10', {'marked': False, 'arrows': ['G9', 'G10']})])"
      ]
     },
     "execution_count": 106,
     "metadata": {},
     "output_type": "execute_result"
    }
   ],
   "source": [
    "graph_ecoli2.edges(data=True)"
   ]
  },
  {
   "cell_type": "code",
   "execution_count": 107,
   "metadata": {},
   "outputs": [
    {
     "data": {
      "text/plain": [
       "EdgeDataView([('G1', 'G5', {'marked': False, 'arrows': ['G5']}), ('G2', 'G8', {'marked': False, 'arrows': ['G2']}), ('G2', 'G10', {'marked': False, 'arrows': ['G2', 'G10']}), ('G3', 'G9', {'marked': False, 'arrows': ['G9']}), ('G4', 'G5', {'marked': False, 'arrows': ['G5']}), ('G6', 'G9', {'marked': True, 'arrows': ['G6']}), ('G6', 'G10', {'marked': True, 'arrows': ['G6']}), ('G7', 'G8', {'marked': False, 'arrows': []}), ('G9', 'G10', {'marked': False, 'arrows': ['G9', 'G10']})])"
      ]
     },
     "execution_count": 107,
     "metadata": {},
     "output_type": "execute_result"
    }
   ],
   "source": [
    "graph_ecoli1.edges(data=True)"
   ]
  },
  {
   "cell_type": "code",
   "execution_count": 108,
   "metadata": {},
   "outputs": [
    {
     "data": {
      "image/png": "[encoded data removed]",
      "text/plain": [
       "<Figure size 432x288 with 1 Axes>"
      ]
     },
     "metadata": {},
     "output_type": "display_data"
    }
   ],
   "source": [
    "nx.draw(graph_yeast3, with_labels=True)"
   ]
  },
  {
   "cell_type": "code",
   "execution_count": 110,
   "metadata": {},
   "outputs": [
    {
     "data": {
      "image/png": "[encoded data removed]",
      "text/plain": [
       "<Figure size 432x288 with 1 Axes>"
      ]
     },
     "metadata": {},
     "output_type": "display_data"
    }
   ],
   "source": [
    "nx.draw(graph_yeast2, with_labels=True)"
   ]
  },
  {
   "cell_type": "code",
   "execution_count": 111,
   "metadata": {},
   "outputs": [
    {
     "data": {
      "image/png": "[encoded data removed]",
      "text/plain": [
       "<Figure size 432x288 with 1 Axes>"
      ]
     },
     "metadata": {},
     "output_type": "display_data"
    }
   ],
   "source": [
    "nx.draw(graph_yeast1, with_labels=True)"
   ]
  },
  {
   "cell_type": "code",
   "execution_count": 112,
   "metadata": {},
   "outputs": [
    {
     "data": {
      "image/png": "[encoded data removed]",
      "text/plain": [
       "<Figure size 432x288 with 1 Axes>"
      ]
     },
     "metadata": {},
     "output_type": "display_data"
    }
   ],
   "source": [
    "nx.draw(graph_ecoli2, with_labels=True)"
   ]
  },
  {
   "cell_type": "code",
   "execution_count": 109,
   "metadata": {},
   "outputs": [
    {
     "data": {
      "image/png": "[encoded data removed]",
      "text/plain": [
       "<Figure size 432x288 with 1 Axes>"
      ]
     },
     "metadata": {},
     "output_type": "display_data"
    }
   ],
   "source": [
    "nx.draw(graph_ecoli1, with_labels=True)"
   ]
  },
  {
   "cell_type": "code",
   "execution_count": 113,
   "metadata": {},
   "outputs": [
    {
     "name": "stdout",
     "output_type": "stream",
     "text": [
      "[[0 0 0 0 1 0 0 0 0 0]\n",
      " [0 0 0 0 0 0 0 1 0 1]\n",
      " [0 0 0 0 0 0 0 0 1 0]\n",
      " [0 0 0 0 1 0 0 0 0 0]\n",
      " [1 0 0 1 0 0 0 0 0 0]\n",
      " [0 0 0 0 0 0 0 0 1 1]\n",
      " [0 0 0 0 0 0 0 1 0 0]\n",
      " [0 1 0 0 0 0 1 0 0 0]\n",
      " [0 0 1 0 0 1 0 0 0 1]\n",
      " [0 1 0 0 0 1 0 0 1 0]]\n"
     ]
    }
   ],
   "source": [
    "predicted_adjMatrix_yeast3 = nx.adjacency_matrix(graph_yeast3)\n",
    "\n",
    "print(predicted_adjMatrix_yeast3.todense())"
   ]
  },
  {
   "cell_type": "code",
   "execution_count": 114,
   "metadata": {},
   "outputs": [
    {
     "name": "stdout",
     "output_type": "stream",
     "text": [
      "[[0 0 0 0 0 0 1 1 1 0]\n",
      " [0 0 0 0 1 0 1 0 0 1]\n",
      " [0 0 0 1 0 0 0 0 0 1]\n",
      " [0 0 1 0 0 0 0 0 0 1]\n",
      " [0 1 0 0 0 0 0 0 1 0]\n",
      " [0 0 0 0 0 0 1 1 1 0]\n",
      " [1 1 0 0 0 1 0 1 0 0]\n",
      " [1 0 0 0 0 1 1 0 0 0]\n",
      " [1 0 0 0 1 1 0 0 0 0]\n",
      " [0 1 1 1 0 0 0 0 0 0]]\n"
     ]
    }
   ],
   "source": [
    "predicted_adjMatrix_yeast2 = nx.adjacency_matrix(graph_yeast2)\n",
    "print(predicted_adjMatrix_yeast2.todense())"
   ]
  },
  {
   "cell_type": "code",
   "execution_count": 115,
   "metadata": {},
   "outputs": [
    {
     "name": "stdout",
     "output_type": "stream",
     "text": [
      "[[0 0 0 0 1 0 0 0 0 0]\n",
      " [0 0 0 0 0 0 0 1 0 1]\n",
      " [0 0 0 0 0 0 0 0 1 0]\n",
      " [0 0 0 0 1 0 0 0 0 0]\n",
      " [1 0 0 1 0 0 0 0 0 0]\n",
      " [0 0 0 0 0 0 0 0 1 1]\n",
      " [0 0 0 0 0 0 0 1 0 0]\n",
      " [0 1 0 0 0 0 1 0 0 0]\n",
      " [0 0 1 0 0 1 0 0 0 1]\n",
      " [0 1 0 0 0 1 0 0 1 0]]\n"
     ]
    }
   ],
   "source": [
    "predicted_adjMatrix_yeast1 = nx.adjacency_matrix(graph_yeast1)\n",
    "\n",
    "print(predicted_adjMatrix_yeast1.todense())"
   ]
  },
  {
   "cell_type": "code",
   "execution_count": 116,
   "metadata": {},
   "outputs": [
    {
     "name": "stdout",
     "output_type": "stream",
     "text": [
      "[[0 0 0 0 1 0 0 0 0 0]\n",
      " [0 0 0 0 0 0 0 1 0 1]\n",
      " [0 0 0 0 0 0 0 0 1 0]\n",
      " [0 0 0 0 1 0 0 0 0 0]\n",
      " [1 0 0 1 0 0 0 0 0 0]\n",
      " [0 0 0 0 0 0 0 0 1 1]\n",
      " [0 0 0 0 0 0 0 1 0 0]\n",
      " [0 1 0 0 0 0 1 0 0 0]\n",
      " [0 0 1 0 0 1 0 0 0 1]\n",
      " [0 1 0 0 0 1 0 0 1 0]]\n"
     ]
    }
   ],
   "source": [
    "predicted_adjMatrix_ecoli2 = nx.adjacency_matrix(graph_ecoli2)\n",
    "\n",
    "print(predicted_adjMatrix_ecoli2.todense())"
   ]
  },
  {
   "cell_type": "code",
   "execution_count": 117,
   "metadata": {},
   "outputs": [
    {
     "name": "stdout",
     "output_type": "stream",
     "text": [
      "[[0 0 0 0 1 0 0 0 0 0]\n",
      " [0 0 0 0 0 0 0 1 0 1]\n",
      " [0 0 0 0 0 0 0 0 1 0]\n",
      " [0 0 0 0 1 0 0 0 0 0]\n",
      " [1 0 0 1 0 0 0 0 0 0]\n",
      " [0 0 0 0 0 0 0 0 1 1]\n",
      " [0 0 0 0 0 0 0 1 0 0]\n",
      " [0 1 0 0 0 0 1 0 0 0]\n",
      " [0 0 1 0 0 1 0 0 0 1]\n",
      " [0 1 0 0 0 1 0 0 1 0]]\n"
     ]
    }
   ],
   "source": [
    "predicted_adjMatrix_ecoli1 = nx.adjacency_matrix(graph_ecoli1)\n",
    "\n",
    "print(predicted_adjMatrix_ecoli1.todense())"
   ]
  },
  {
   "cell_type": "code",
   "execution_count": 33,
   "metadata": {},
   "outputs": [
    {
     "name": "stdout",
     "output_type": "stream",
     "text": [
      "H edges: [('G1', 'G2'), ('G1', 'G7'), ('G1', 'G9'), ('G2', 'G1'), ('G2', 'G5'), ('G3', 'G5'), ('G3', 'G6'), ('G3', 'G9'), ('G4', 'G8'), ('G5', 'G2'), ('G5', 'G3'), ('G5', 'G8'), ('G6', 'G3'), ('G7', 'G1'), ('G7', 'G9'), ('G7', 'G10'), ('G8', 'G4'), ('G8', 'G5'), ('G9', 'G1'), ('G9', 'G3'), ('G9', 'G7'), ('G10', 'G7')]\n"
     ]
    },
    {
     "data": {
      "image/png": "[encoded data removed]",
      "text/plain": [
       "<Figure size 432x288 with 1 Axes>"
      ]
     },
     "metadata": {},
     "output_type": "display_data"
    }
   ],
   "source": [
    "#convert to digraph\n",
    "#add_edges_from\n",
    "H_yeast3 = graph_yeast3.to_directed()\n",
    "print('H edges:', H.edges)\n",
    "H.add_edge('G3', 'G6')\n",
    "nx.draw(H, with_labels=True)"
   ]
  },
  {
   "cell_type": "code",
   "execution_count": null,
   "metadata": {},
   "outputs": [],
   "source": []
  },
  {
   "cell_type": "code",
   "execution_count": null,
   "metadata": {},
   "outputs": [],
   "source": []
  },
  {
   "cell_type": "code",
   "execution_count": null,
   "metadata": {},
   "outputs": [],
   "source": []
  },
  {
   "cell_type": "code",
   "execution_count": null,
   "metadata": {},
   "outputs": [],
   "source": []
  },
  {
   "cell_type": "code",
   "execution_count": 119,
   "metadata": {},
   "outputs": [
    {
     "data": {
      "text/html": [
       "<div>\n",
       "<style scoped>\n",
       "    .dataframe tbody tr th:only-of-type {\n",
       "        vertical-align: middle;\n",
       "    }\n",
       "\n",
       "    .dataframe tbody tr th {\n",
       "        vertical-align: top;\n",
       "    }\n",
       "\n",
       "    .dataframe thead th {\n",
       "        text-align: right;\n",
       "    }\n",
       "</style>\n",
       "<table border=\"1\" class=\"dataframe\">\n",
       "  <thead>\n",
       "    <tr style=\"text-align: right;\">\n",
       "      <th></th>\n",
       "      <th>0</th>\n",
       "      <th>1</th>\n",
       "      <th>2</th>\n",
       "    </tr>\n",
       "  </thead>\n",
       "  <tbody>\n",
       "    <tr>\n",
       "      <th>0</th>\n",
       "      <td>G2</td>\n",
       "      <td>G1</td>\n",
       "      <td>1</td>\n",
       "    </tr>\n",
       "    <tr>\n",
       "      <th>1</th>\n",
       "      <td>G2</td>\n",
       "      <td>G3</td>\n",
       "      <td>1</td>\n",
       "    </tr>\n",
       "    <tr>\n",
       "      <th>2</th>\n",
       "      <td>G3</td>\n",
       "      <td>G4</td>\n",
       "      <td>1</td>\n",
       "    </tr>\n",
       "    <tr>\n",
       "      <th>3</th>\n",
       "      <td>G9</td>\n",
       "      <td>G4</td>\n",
       "      <td>1</td>\n",
       "    </tr>\n",
       "    <tr>\n",
       "      <th>4</th>\n",
       "      <td>G3</td>\n",
       "      <td>G5</td>\n",
       "      <td>1</td>\n",
       "    </tr>\n",
       "    <tr>\n",
       "      <th>5</th>\n",
       "      <td>G8</td>\n",
       "      <td>G5</td>\n",
       "      <td>1</td>\n",
       "    </tr>\n",
       "    <tr>\n",
       "      <th>6</th>\n",
       "      <td>G9</td>\n",
       "      <td>G5</td>\n",
       "      <td>1</td>\n",
       "    </tr>\n",
       "    <tr>\n",
       "      <th>7</th>\n",
       "      <td>G3</td>\n",
       "      <td>G6</td>\n",
       "      <td>1</td>\n",
       "    </tr>\n",
       "    <tr>\n",
       "      <th>8</th>\n",
       "      <td>G3</td>\n",
       "      <td>G7</td>\n",
       "      <td>1</td>\n",
       "    </tr>\n",
       "    <tr>\n",
       "      <th>9</th>\n",
       "      <td>G8</td>\n",
       "      <td>G7</td>\n",
       "      <td>1</td>\n",
       "    </tr>\n",
       "    <tr>\n",
       "      <th>10</th>\n",
       "      <td>G10</td>\n",
       "      <td>G7</td>\n",
       "      <td>1</td>\n",
       "    </tr>\n",
       "  </tbody>\n",
       "</table>\n",
       "</div>"
      ],
      "text/plain": [
       "      0   1  2\n",
       "0    G2  G1  1\n",
       "1    G2  G3  1\n",
       "2    G3  G4  1\n",
       "3    G9  G4  1\n",
       "4    G3  G5  1\n",
       "5    G8  G5  1\n",
       "6    G9  G5  1\n",
       "7    G3  G6  1\n",
       "8    G3  G7  1\n",
       "9    G8  G7  1\n",
       "10  G10  G7  1"
      ]
     },
     "execution_count": 119,
     "metadata": {},
     "output_type": "execute_result"
    }
   ],
   "source": [
    "# Load the benchmark\n",
    "def load_benchmark_to_dataframe_yeast3():\n",
    "    # load the data into a dataframe:\n",
    "    benchmark_df = pd.read_csv('DREAM3GoldStandard_InSilicoSize10_Yeast3.txt', sep='\\t', header=None)\n",
    "    benchmark_df = benchmark_df.loc[benchmark_df[2] == 1]\n",
    "    return benchmark_df\n",
    "\n",
    "# Load the benchmark\n",
    "def load_benchmark_to_dataframe_yeast2():\n",
    "    # load the data into a dataframe:\n",
    "    benchmark_df = pd.read_csv('DREAM3GoldStandard_InSilicoSize10_Yeast2.txt', sep='\\t', header=None)\n",
    "    benchmark_df = benchmark_df.loc[benchmark_df[2] == 1]\n",
    "    return benchmark_df\n",
    "\n",
    "# Load the benchmark\n",
    "def load_benchmark_to_dataframe_yeast2():\n",
    "    # load the data into a dataframe:\n",
    "    benchmark_df = pd.read_csv('DREAM3GoldStandard_InSilicoSize10_Yeast1.txt', sep='\\t', header=None)\n",
    "    benchmark_df = benchmark_df.loc[benchmark_df[2] == 1]\n",
    "    return benchmark_df\n",
    "\n",
    "# Load the benchmark\n",
    "def load_benchmark_to_dataframe_yeast1():\n",
    "    # load the data into a dataframe:\n",
    "    benchmark_df = pd.read_csv('DREAM3GoldStandard_InSilicoSize10_Yeast1.txt', sep='\\t', header=None)\n",
    "    benchmark_df = benchmark_df.loc[benchmark_df[2] == 1]\n",
    "    return benchmark_df\n",
    "\n",
    "# Load the benchmark\n",
    "def load_benchmark_to_dataframe_ecoli2():\n",
    "    # load the data into a dataframe:\n",
    "    benchmark_df = pd.read_csv('DREAM3GoldStandard_InSilicoSize10_Ecoli2.txt', sep='\\t', header=None)\n",
    "    benchmark_df = benchmark_df.loc[benchmark_df[2] == 1]\n",
    "    return benchmark_df\n",
    "\n",
    "# Load the benchmark\n",
    "def load_benchmark_to_dataframe_ecoli1():\n",
    "    # load the data into a dataframe:\n",
    "    benchmark_df = pd.read_csv('DREAM3GoldStandard_InSilicoSize10_Ecoli1.txt', sep='\\t', header=None)\n",
    "    benchmark_df = benchmark_df.loc[benchmark_df[2] == 1]\n",
    "    return benchmark_df\n",
    "    \n",
    "benchmark_df_yeast3 = load_benchmark_to_dataframe_yeast3()\n",
    "benchmark_df_yeast3\n",
    "\n",
    "benchmark_df_yeast2 = load_benchmark_to_dataframe_yeast2()\n",
    "benchmark_df_yeast2\n",
    "\n",
    "benchmark_df_yeast1 = load_benchmark_to_dataframe_yeast1()\n",
    "benchmark_df_yeast1\n",
    "\n",
    "benchmark_df_ecoli2 = load_benchmark_to_dataframe_ecoli2()\n",
    "benchmark_df_ecoli2\n",
    "\n",
    "benchmark_df_ecoli1 = load_benchmark_to_dataframe_ecoli1()\n",
    "benchmark_df_ecoli1"
   ]
  },
  {
   "cell_type": "code",
   "execution_count": 120,
   "metadata": {},
   "outputs": [
    {
     "name": "stdout",
     "output_type": "stream",
     "text": [
      "[[0 0 1 1 1 1 1 0 0 0]\n",
      " [0 0 0 1 0 0 0 1 0 1]\n",
      " [1 0 0 1 0 1 0 1 0 0]\n",
      " [1 1 1 0 1 1 0 1 0 0]\n",
      " [1 0 0 1 0 1 0 0 0 0]\n",
      " [1 0 1 1 1 0 1 1 1 1]\n",
      " [1 0 0 0 0 1 0 0 0 0]\n",
      " [0 1 1 1 0 1 0 0 1 1]\n",
      " [0 0 0 0 0 1 0 1 0 1]\n",
      " [0 1 0 0 0 1 0 1 1 0]]\n"
     ]
    },
    {
     "data": {
      "image/png": "[encoded data removed]",
      "text/plain": [
       "<Figure size 432x288 with 1 Axes>"
      ]
     },
     "metadata": {},
     "output_type": "display_data"
    }
   ],
   "source": [
    "import matplotlib.pyplot as plt\n",
    "\n",
    "benchmark_graph_yeast3 = nx.Graph()\n",
    "\n",
    "for i in (1,10):\n",
    "    benchmark_graph_yeast3.add_node('G'+str(i))\n",
    "\n",
    "for row in range(0,benchmark_df_yeast3.shape[0]):\n",
    "    benchmark_graph_yeast3.add_edge(benchmark_df_yeast3[0][row], benchmark_df_yeast3[1][row])\n",
    "\n",
    "nx.draw(benchmark_graph_yeast3, with_labels=True, font_weight='bold')\n",
    "\n",
    "benchmark_adjMatrix_yeast3 = nx.adjacency_matrix(benchmark_graph_yeast3)\n",
    "\n",
    "print(benchmark_adjMatrix_yeast3.todense())"
   ]
  },
  {
   "cell_type": "code",
   "execution_count": 121,
   "metadata": {},
   "outputs": [
    {
     "name": "stdout",
     "output_type": "stream",
     "text": [
      "[[0 0 1 1 1 0 1 0 0 0]\n",
      " [0 0 0 0 0 0 0 1 0 0]\n",
      " [1 0 0 0 0 0 1 0 0 0]\n",
      " [1 0 0 0 0 0 0 0 0 0]\n",
      " [1 0 0 0 0 1 0 0 0 1]\n",
      " [0 0 0 0 1 0 0 0 0 0]\n",
      " [1 0 1 0 0 0 0 1 0 0]\n",
      " [0 1 0 0 0 0 1 0 1 0]\n",
      " [0 0 0 0 0 0 0 1 0 0]\n",
      " [0 0 0 0 1 0 0 0 0 0]]\n"
     ]
    },
    {
     "data": {
      "image/png": "[encoded data removed]",
      "text/plain": [
       "<Figure size 432x288 with 1 Axes>"
      ]
     },
     "metadata": {},
     "output_type": "display_data"
    }
   ],
   "source": [
    "benchmark_graph_yeast2 = nx.Graph()\n",
    "\n",
    "for i in (1,10):\n",
    "    benchmark_graph_yeast2.add_node('G'+str(i))\n",
    "\n",
    "for row in range(0,benchmark_df_yeast2.shape[0]):\n",
    "    benchmark_graph_yeast2.add_edge(benchmark_df_yeast2[0][row], benchmark_df_yeast2[1][row])\n",
    "\n",
    "nx.draw(benchmark_graph_yeast2, with_labels=True, font_weight='bold')\n",
    "\n",
    "benchmark_adjMatrix_yeast2 = nx.adjacency_matrix(benchmark_graph_yeast2)\n",
    "\n",
    "print(benchmark_adjMatrix_yeast2.todense())"
   ]
  },
  {
   "cell_type": "code",
   "execution_count": 122,
   "metadata": {},
   "outputs": [
    {
     "name": "stdout",
     "output_type": "stream",
     "text": [
      "[[0 0 1 1 1 0 1 0 0 0]\n",
      " [0 0 0 0 0 0 0 1 0 0]\n",
      " [1 0 0 0 0 0 1 0 0 0]\n",
      " [1 0 0 0 0 0 0 0 0 0]\n",
      " [1 0 0 0 0 1 0 0 0 1]\n",
      " [0 0 0 0 1 0 0 0 0 0]\n",
      " [1 0 1 0 0 0 0 1 0 0]\n",
      " [0 1 0 0 0 0 1 0 1 0]\n",
      " [0 0 0 0 0 0 0 1 0 0]\n",
      " [0 0 0 0 1 0 0 0 0 0]]\n"
     ]
    },
    {
     "data": {
      "image/png": "[encoded data removed]",
      "text/plain": [
       "<Figure size 432x288 with 1 Axes>"
      ]
     },
     "metadata": {},
     "output_type": "display_data"
    }
   ],
   "source": [
    "benchmark_graph_yeast1 = nx.Graph()\n",
    "\n",
    "for i in (1,10):\n",
    "    benchmark_graph_yeast1.add_node('G'+str(i))\n",
    "\n",
    "for row in range(0,benchmark_df_yeast1.shape[0]):\n",
    "    benchmark_graph_yeast1.add_edge(benchmark_df_yeast1[0][row], benchmark_df_yeast1[1][row])\n",
    "\n",
    "nx.draw(benchmark_graph_yeast1, with_labels=True, font_weight='bold')\n",
    "\n",
    "benchmark_adjMatrix_yeast1 = nx.adjacency_matrix(benchmark_graph_yeast1)\n",
    "\n",
    "print(benchmark_adjMatrix_yeast1.todense())"
   ]
  },
  {
   "cell_type": "code",
   "execution_count": 123,
   "metadata": {},
   "outputs": [
    {
     "name": "stdout",
     "output_type": "stream",
     "text": [
      "[[0 0 1 1 1 1 1 1 1 1]\n",
      " [0 0 0 0 0 1 0 0 0 0]\n",
      " [1 0 0 0 0 1 0 0 0 0]\n",
      " [1 0 0 0 0 0 0 0 0 0]\n",
      " [1 0 0 0 0 1 0 0 0 0]\n",
      " [1 1 1 0 1 0 1 1 1 1]\n",
      " [1 0 0 0 0 1 0 0 0 0]\n",
      " [1 0 0 0 0 1 0 0 0 0]\n",
      " [1 0 0 0 0 1 0 0 0 0]\n",
      " [1 0 0 0 0 1 0 0 0 0]]\n"
     ]
    },
    {
     "data": {
      "image/png": "[encoded data removed]",
      "text/plain": [
       "<Figure size 432x288 with 1 Axes>"
      ]
     },
     "metadata": {},
     "output_type": "display_data"
    }
   ],
   "source": [
    "benchmark_graph_ecoli2 = nx.Graph()\n",
    "\n",
    "for i in (1,10):\n",
    "    benchmark_graph_ecoli2.add_node('G'+str(i))\n",
    "\n",
    "for row in range(0,benchmark_df_ecoli2.shape[0]):\n",
    "    benchmark_graph_ecoli2.add_edge(benchmark_df_ecoli2[0][row], benchmark_df_ecoli2[1][row])\n",
    "\n",
    "nx.draw(benchmark_graph_ecoli2, with_labels=True, font_weight='bold')\n",
    "\n",
    "benchmark_adjMatrix_ecoli2 = nx.adjacency_matrix(benchmark_graph_ecoli2)\n",
    "\n",
    "print(benchmark_adjMatrix_ecoli2.todense())"
   ]
  },
  {
   "cell_type": "code",
   "execution_count": 124,
   "metadata": {},
   "outputs": [
    {
     "name": "stdout",
     "output_type": "stream",
     "text": [
      "[[0 0 1 0 0 0 0 0 0 0]\n",
      " [0 0 0 0 0 0 0 0 0 1]\n",
      " [1 0 0 1 0 0 0 0 0 0]\n",
      " [0 0 1 0 1 0 1 0 1 1]\n",
      " [0 0 0 1 0 1 0 0 0 0]\n",
      " [0 0 0 0 1 0 1 0 0 0]\n",
      " [0 0 0 1 0 1 0 1 0 0]\n",
      " [0 0 0 0 0 0 1 0 0 1]\n",
      " [0 0 0 1 0 0 0 0 0 0]\n",
      " [0 1 0 1 0 0 0 1 0 0]]\n"
     ]
    },
    {
     "data": {
      "image/png": "[encoded data removed]",
      "text/plain": [
       "<Figure size 432x288 with 1 Axes>"
      ]
     },
     "metadata": {},
     "output_type": "display_data"
    }
   ],
   "source": [
    "benchmark_graph_ecoli1 = nx.Graph()\n",
    "\n",
    "for i in (1,10):\n",
    "    benchmark_graph_ecoli1.add_node('G'+str(i))\n",
    "\n",
    "for row in range(0,benchmark_df_ecoli1.shape[0]):\n",
    "    benchmark_graph_ecoli1.add_edge(benchmark_df_ecoli1[0][row], benchmark_df_ecoli1[1][row])\n",
    "\n",
    "nx.draw(benchmark_graph_ecoli1, with_labels=True, font_weight='bold')\n",
    "\n",
    "benchmark_adjMatrix_ecoli1 = nx.adjacency_matrix(benchmark_graph_ecoli1)\n",
    "\n",
    "print(benchmark_adjMatrix_ecoli1.todense())"
   ]
  },
  {
   "cell_type": "code",
   "execution_count": 126,
   "metadata": {},
   "outputs": [],
   "source": [
    "y_test_yeast3 = benchmark_adjMatrix_yeast3.todense().flatten()\n",
    "y_pred_yeast3 = predicted_adjMatrix_yeast3.todense().flatten()\n",
    "\n",
    "y_pred_yeast3 = numpy.asarray(y_pred_yeast3)\n",
    "y_test_yeast3 = numpy.asarray(y_test_yeast3)\n",
    "\n",
    "y_pred_yeast3 = y_pred_yeast3.reshape(y_pred_yeast3.shape[1],)\n",
    "y_test_yeast3 = y_test_yeast3.reshape(y_test_yeast3.shape[1],)"
   ]
  },
  {
   "cell_type": "code",
   "execution_count": 127,
   "metadata": {},
   "outputs": [
    {
     "name": "stdout",
     "output_type": "stream",
     "text": [
      "0.66\n"
     ]
    }
   ],
   "source": [
    "cm_yeast3 = ConfusionMatrix(y_test_yeast3, y_pred_yeast3)\n",
    "# cm.relabel(mapping=classdict)\n",
    "print(cm_yeast3.ACC_Macro)"
   ]
  },
  {
   "cell_type": "code",
   "execution_count": 128,
   "metadata": {},
   "outputs": [],
   "source": [
    "y_test_yeast2 = benchmark_adjMatrix_yeast2.todense().flatten()\n",
    "y_pred_yeast2 = predicted_adjMatrix_yeast2.todense().flatten()\n",
    "y_pred_yeast2 = numpy.asarray(y_pred_yeast2)\n",
    "y_test_yeast2 = numpy.asarray(y_test_yeast2)\n",
    "y_pred_yeast2 = y_pred_yeast2.reshape(y_pred_yeast2.shape[1],)\n",
    "y_test_yeast2 = y_test_yeast2.reshape(y_test_yeast2.shape[1],)\n",
    "\n",
    "\n",
    "y_test_yeast1 = benchmark_adjMatrix_yeast1.todense().flatten()\n",
    "y_pred_yeast1 = predicted_adjMatrix_yeast1.todense().flatten()\n",
    "y_pred_yeast1 = numpy.asarray(y_pred_yeast1)\n",
    "y_test_yeast1 = numpy.asarray(y_test_yeast1)\n",
    "y_pred_yeast1 = y_pred_yeast1.reshape(y_pred_yeast1.shape[1],)\n",
    "y_test_yeast1 = y_test_yeast1.reshape(y_test_yeast1.shape[1],)\n",
    "\n",
    "y_test_ecoli1 = benchmark_adjMatrix_ecoli1.todense().flatten()\n",
    "y_pred_ecoli1 = predicted_adjMatrix_ecoli1.todense().flatten()\n",
    "y_pred_ecoli1 = numpy.asarray(y_pred_ecoli1)\n",
    "y_test_ecoli1 = numpy.asarray(y_test_ecoli1)\n",
    "y_pred_ecoli1 = y_pred_ecoli1.reshape(y_pred_ecoli1.shape[1],)\n",
    "y_test_ecoli1 = y_test_ecoli1.reshape(y_test_ecoli1.shape[1],)\n",
    "\n",
    "y_test_ecoli2 = benchmark_adjMatrix_ecoli2.todense().flatten()\n",
    "y_pred_ecoli2 = predicted_adjMatrix_ecoli2.todense().flatten()\n",
    "y_pred_ecoli2 = numpy.asarray(y_pred_ecoli2)\n",
    "y_test_ecoli2 = numpy.asarray(y_test_ecoli2)\n",
    "y_pred_ecoli2 = y_pred_ecoli2.reshape(y_pred_ecoli2.shape[1],)\n",
    "y_test_ecoli2 = y_test_ecoli2.reshape(y_test_ecoli2.shape[1],)"
   ]
  },
  {
   "cell_type": "code",
   "execution_count": 132,
   "metadata": {},
   "outputs": [
    {
     "name": "stdout",
     "output_type": "stream",
     "text": [
      "0.66\n",
      "0.6\n",
      "0.74\n",
      "0.72\n",
      "0.64\n"
     ]
    }
   ],
   "source": [
    "cm_yeast3 = ConfusionMatrix(y_test_yeast3, y_pred_yeast3)\n",
    "# cm.relabel(mapping=classdict)\n",
    "print(cm_yeast3.ACC_Macro)\n",
    "\n",
    "cm_yeast2 = ConfusionMatrix(y_test_yeast2, y_pred_yeast2)\n",
    "# cm.relabel(mapping=classdict)\n",
    "print(cm_yeast2.ACC_Macro)\n",
    "\n",
    "cm_yeast1 = ConfusionMatrix(y_test_yeast1, y_pred_yeast1)\n",
    "# cm.relabel(mapping=classdict)\n",
    "print(cm_yeast1.ACC_Macro)\n",
    "\n",
    "cm_ecoli1 = ConfusionMatrix(y_test_ecoli1, y_pred_ecoli1)\n",
    "# cm.relabel(mapping=classdict)\n",
    "print(cm_ecoli1.ACC_Macro)\n",
    "\n",
    "cm_ecoli2 = ConfusionMatrix(y_test_ecoli2, y_pred_ecoli2)\n",
    "# cm.relabel(mapping=classdict)\n",
    "print(cm_ecoli2.ACC_Macro)"
   ]
  },
  {
   "cell_type": "code",
   "execution_count": null,
   "metadata": {},
   "outputs": [],
   "source": []
  }
 ],
 "metadata": {
  "kernelspec": {
   "display_name": "Python 3",
   "language": "python",
   "name": "python3"
  },
  "language_info": {
   "codemirror_mode": {
    "name": "ipython",
    "version": 3
   },
   "file_extension": ".py",
   "mimetype": "text/x-python",
   "name": "python",
   "nbconvert_exporter": "python",
   "pygments_lexer": "ipython3",
   "version": "3.7.6"
  }
 },
 "nbformat": 4,
 "nbformat_minor": 4
}
