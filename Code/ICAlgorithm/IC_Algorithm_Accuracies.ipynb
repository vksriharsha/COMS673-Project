{
  "nbformat": 4,
  "nbformat_minor": 0,
  "metadata": {
    "kernelspec": {
      "display_name": "Python 3",
      "language": "python",
      "name": "python3"
    },
    "language_info": {
      "codemirror_mode": {
        "name": "ipython",
        "version": 3
      },
      "file_extension": ".py",
      "mimetype": "text/x-python",
      "name": "python",
      "nbconvert_exporter": "python",
      "pygments_lexer": "ipython3",
      "version": "3.7.6"
    },
    "colab": {
      "name": "IC_Algorithm_Accuracies.ipynb",
      "provenance": [],
      "include_colab_link": true
    }
  },
  "cells": [
    {
      "cell_type": "markdown",
      "metadata": {
        "id": "view-in-github",
        "colab_type": "text"
      },
      "source": [
        "<a href=\"https://colab.research.google.com/github/vksriharsha/COMS673-Project/blob/main/Code/ICAlgorithm/IC_Algorithm_Accuracies.ipynb\" target=\"_parent\"><img src=\"https://colab.research.google.com/assets/colab-badge.svg\" alt=\"Open In Colab\"/></a>"
      ]
    },
    {
      "cell_type": "code",
      "metadata": {
        "id": "npODgaLlheA_",
        "outputId": "2907b9eb-4b93-40a9-84ea-588d1988597c",
        "colab": {
          "base_uri": "https://localhost:8080/"
        }
      },
      "source": [
        "#### Imports ####\n",
        "\n",
        "# Install a pip package in the current Jupyter kernel\n",
        "import sys\n",
        "!{sys.executable} -m pip install causality\n",
        "# Install a pip package in the current Jupyter kernel\n",
        "import sys\n",
        "!{sys.executable} -m pip install pandas\n",
        "!{sys.executable} -m pip install decorator>=4.1.2\n",
        "!{sys.executable} -m pip install networkx>=2.0\n",
        "!{sys.executable} -m pip install numpy>=1.13.3\n",
        "!{sys.executable} -m pip install pandas>=0.20.3\n",
        "!{sys.executable} -m pip install patsy>=0.4.1\n",
        "!{sys.executable} -m pip install python-dateutil>=2.6.1\n",
        "!{sys.executable} -m pip install pytz>=2017.2\n",
        "!{sys.executable} -m pip install scipy>=0.19.1\n",
        "!{sys.executable} -m pip install six>=1.11.0\n",
        "!{sys.executable} -m pip install statsmodels>=0.8.0\n",
        "\n",
        "!{sys.executable} -m pip install networkx\n",
        "!{sys.executable} -m pip install matplotlib\n",
        "!{sys.executable} -m pip install pycm\n",
        "\n"
      ],
      "execution_count": 11,
      "outputs": [
        {
          "output_type": "stream",
          "name": "stdout",
          "text": [
            "Requirement already satisfied: causality in /usr/local/lib/python3.7/dist-packages (0.0.10)\n",
            "Requirement already satisfied: pandas in /usr/local/lib/python3.7/dist-packages (from causality) (1.1.5)\n",
            "Requirement already satisfied: pytz in /usr/local/lib/python3.7/dist-packages (from causality) (2018.9)\n",
            "Requirement already satisfied: patsy in /usr/local/lib/python3.7/dist-packages (from causality) (0.5.2)\n",
            "Requirement already satisfied: scipy in /usr/local/lib/python3.7/dist-packages (from causality) (1.4.1)\n",
            "Requirement already satisfied: six in /usr/local/lib/python3.7/dist-packages (from causality) (1.15.0)\n",
            "Requirement already satisfied: python-dateutil in /usr/local/lib/python3.7/dist-packages (from causality) (2.8.2)\n",
            "Requirement already satisfied: decorator in /usr/local/lib/python3.7/dist-packages (from causality) (4.4.2)\n",
            "Requirement already satisfied: numpy in /usr/local/lib/python3.7/dist-packages (from causality) (1.19.5)\n",
            "Requirement already satisfied: statsmodels in /usr/local/lib/python3.7/dist-packages (from causality) (0.10.2)\n",
            "Requirement already satisfied: networkx in /usr/local/lib/python3.7/dist-packages (from causality) (2.6.3)\n",
            "^C\n",
            "Requirement already satisfied: networkx in /usr/local/lib/python3.7/dist-packages (2.6.3)\n",
            "Requirement already satisfied: matplotlib in /usr/local/lib/python3.7/dist-packages (3.2.2)\n",
            "Requirement already satisfied: kiwisolver>=1.0.1 in /usr/local/lib/python3.7/dist-packages (from matplotlib) (1.3.2)\n",
            "Requirement already satisfied: cycler>=0.10 in /usr/local/lib/python3.7/dist-packages (from matplotlib) (0.11.0)\n",
            "Requirement already satisfied: pyparsing!=2.0.4,!=2.1.2,!=2.1.6,>=2.0.1 in /usr/local/lib/python3.7/dist-packages (from matplotlib) (3.0.6)\n",
            "Requirement already satisfied: python-dateutil>=2.1 in /usr/local/lib/python3.7/dist-packages (from matplotlib) (2.8.2)\n",
            "Requirement already satisfied: numpy>=1.11 in /usr/local/lib/python3.7/dist-packages (from matplotlib) (1.19.5)\n",
            "Requirement already satisfied: six>=1.5 in /usr/local/lib/python3.7/dist-packages (from python-dateutil>=2.1->matplotlib) (1.15.0)\n",
            "Requirement already satisfied: pycm in /usr/local/lib/python3.7/dist-packages (3.3)\n",
            "Requirement already satisfied: art>=1.8 in /usr/local/lib/python3.7/dist-packages (from pycm) (5.3)\n",
            "Requirement already satisfied: numpy>=1.9.0 in /usr/local/lib/python3.7/dist-packages (from pycm) (1.19.5)\n"
          ]
        }
      ]
    },
    {
      "cell_type": "code",
      "metadata": {
        "id": "LZiGWgFueNhI",
        "outputId": "5c0244df-701e-411c-e312-d40a9ef9809f",
        "colab": {
          "base_uri": "https://localhost:8080/"
        }
      },
      "source": [
        "\n",
        "# causality imports\n",
        "# IC Algorithm Tutorial: https://pypi.org/project/causality/\n",
        "import numpy\n",
        "import pandas as pd\n",
        "import networkx as nx\n",
        "import matplotlib.pyplot as plt\n",
        "import time\n",
        "\n",
        "\n",
        "from causality.inference.search import IC\n",
        "from causality.inference.independence_tests import RobustRegressionTest\n",
        "\n",
        "from sklearn.metrics import roc_curve\n",
        "from sklearn.metrics import roc_auc_score\n",
        "from sklearn.metrics import precision_recall_curve, roc_curve, auc, average_precision_score\n",
        "from sklearn.metrics import confusion_matrix\n",
        "\n",
        "from pycm import *\n",
        "\n",
        "\n",
        "print('causality packages imported successfully')"
      ],
      "execution_count": 39,
      "outputs": [
        {
          "output_type": "stream",
          "name": "stdout",
          "text": [
            "causality packages imported successfully\n"
          ]
        }
      ]
    },
    {
      "cell_type": "code",
      "metadata": {
        "id": "DCaHHOUKf35S",
        "outputId": "d504e86a-a128-4353-ea62-d944a44233d6",
        "colab": {
          "base_uri": "https://localhost:8080/"
        }
      },
      "source": [
        "from google.colab import drive\n",
        "drive.mount('/content/drive', force_remount=True)"
      ],
      "execution_count": 40,
      "outputs": [
        {
          "output_type": "stream",
          "name": "stdout",
          "text": [
            "Mounted at /content/drive\n"
          ]
        }
      ]
    },
    {
      "cell_type": "code",
      "metadata": {
        "id": "cTsPYHYjeNhM",
        "outputId": "ee66b8aa-f7a0-46a0-b142-236b56b4720e",
        "colab": {
          "base_uri": "https://localhost:8080/",
          "height": 1000
        }
      },
      "source": [
        "import os\n",
        "\n",
        "directory = '/content/drive/MyDrive/COM S 673/DREAM3 in silico challenge/Size50/DREAM3 data/'\n",
        "df_index = []\n",
        "time_df = pd.DataFrame(columns=['Time Taken'])\n",
        "\n",
        "for filename in os.listdir(directory):\n",
        "  if('Yeast' in filename or 'Ecoli' in filename):\n",
        "    directory = directory+filename\n",
        "    split_filename = (filename.split('-'))\n",
        "    print(split_filename)\n",
        "  \n",
        "    if(split_filename[2] in ['null','nonoise']):\n",
        "      type = split_filename[3].split('.')\n",
        "      split_mix = split_filename[2]+'-'+type[0]\n",
        "    else:\n",
        "      type = split_filename[2].split('.')\n",
        "      split_mix = type[0]\n",
        "\n",
        "    df_index.append(split_filename[1]+'-'+split_mix)\n",
        "    \n",
        "df_columns = ['Accuracy']\n",
        "print(df_index)\n",
        "result_df = pd.DataFrame(columns=df_columns, index=df_index)\n",
        "time_df = pd.DataFrame(columns=['Time Taken'], index = df_index)\n",
        "result_df\n",
        "time_df"
      ],
      "execution_count": 41,
      "outputs": [
        {
          "output_type": "stream",
          "name": "stdout",
          "text": [
            "['InSilicoSize50', 'Ecoli1', 'null', 'mutants.tsv']\n",
            "['InSilicoSize50', 'Ecoli1', 'nonoise', 'heterozygous.tsv']\n",
            "['InSilicoSize50', 'Ecoli1', 'nonoise', 'proteins', 'heterozygous.tsv']\n",
            "['InSilicoSize50', 'Ecoli1', 'trajectories.tsv']\n",
            "['InSilicoSize50', 'Ecoli1', 'heterozygous.tsv']\n",
            "['InSilicoSize50', 'Ecoli2', 'nonoise', 'proteins', 'heterozygous.tsv']\n",
            "['InSilicoSize50', 'Ecoli2', 'nonoise', 'heterozygous.tsv']\n",
            "['InSilicoSize50', 'Ecoli2', 'heterozygous.tsv']\n",
            "['InSilicoSize50', 'Ecoli2', 'null', 'mutants.tsv']\n",
            "['InSilicoSize50', 'Ecoli2', 'trajectories.tsv']\n",
            "['InSilicoSize50', 'Yeast1', 'null', 'mutants.tsv']\n",
            "['InSilicoSize50', 'Yeast1', 'nonoise', 'heterozygous.tsv']\n",
            "['InSilicoSize50', 'Yeast1', 'heterozygous.tsv']\n",
            "['InSilicoSize50', 'Yeast1', 'nonoise', 'proteins', 'heterozygous.tsv']\n",
            "['InSilicoSize50', 'Yeast1', 'trajectories.tsv']\n",
            "['InSilicoSize50', 'Yeast2', 'nonoise', 'proteins', 'heterozygous.tsv']\n",
            "['InSilicoSize50', 'Yeast2', 'null', 'mutants.tsv']\n",
            "['InSilicoSize50', 'Yeast2', 'nonoise', 'heterozygous.tsv']\n",
            "['InSilicoSize50', 'Yeast2', 'trajectories.tsv']\n",
            "['InSilicoSize50', 'Yeast2', 'heterozygous.tsv']\n",
            "['InSilicoSize50', 'Yeast3', 'null', 'mutants.tsv']\n",
            "['InSilicoSize50', 'Yeast3', 'heterozygous.tsv']\n",
            "['InSilicoSize50', 'Yeast3', 'nonoise', 'heterozygous.tsv']\n",
            "['InSilicoSize50', 'Yeast3', 'nonoise', 'proteins', 'heterozygous.tsv']\n",
            "['InSilicoSize50', 'Yeast3', 'trajectories.tsv']\n",
            "['Ecoli1-null-mutants', 'Ecoli1-nonoise-heterozygous', 'Ecoli1-nonoise-proteins', 'Ecoli1-trajectories', 'Ecoli1-heterozygous', 'Ecoli2-nonoise-proteins', 'Ecoli2-nonoise-heterozygous', 'Ecoli2-heterozygous', 'Ecoli2-null-mutants', 'Ecoli2-trajectories', 'Yeast1-null-mutants', 'Yeast1-nonoise-heterozygous', 'Yeast1-heterozygous', 'Yeast1-nonoise-proteins', 'Yeast1-trajectories', 'Yeast2-nonoise-proteins', 'Yeast2-null-mutants', 'Yeast2-nonoise-heterozygous', 'Yeast2-trajectories', 'Yeast2-heterozygous', 'Yeast3-null-mutants', 'Yeast3-heterozygous', 'Yeast3-nonoise-heterozygous', 'Yeast3-nonoise-proteins', 'Yeast3-trajectories']\n"
          ]
        },
        {
          "output_type": "execute_result",
          "data": {
            "text/html": [
              "<div>\n",
              "<style scoped>\n",
              "    .dataframe tbody tr th:only-of-type {\n",
              "        vertical-align: middle;\n",
              "    }\n",
              "\n",
              "    .dataframe tbody tr th {\n",
              "        vertical-align: top;\n",
              "    }\n",
              "\n",
              "    .dataframe thead th {\n",
              "        text-align: right;\n",
              "    }\n",
              "</style>\n",
              "<table border=\"1\" class=\"dataframe\">\n",
              "  <thead>\n",
              "    <tr style=\"text-align: right;\">\n",
              "      <th></th>\n",
              "      <th>Time Taken</th>\n",
              "    </tr>\n",
              "  </thead>\n",
              "  <tbody>\n",
              "    <tr>\n",
              "      <th>Ecoli1-null-mutants</th>\n",
              "      <td>NaN</td>\n",
              "    </tr>\n",
              "    <tr>\n",
              "      <th>Ecoli1-nonoise-heterozygous</th>\n",
              "      <td>NaN</td>\n",
              "    </tr>\n",
              "    <tr>\n",
              "      <th>Ecoli1-nonoise-proteins</th>\n",
              "      <td>NaN</td>\n",
              "    </tr>\n",
              "    <tr>\n",
              "      <th>Ecoli1-trajectories</th>\n",
              "      <td>NaN</td>\n",
              "    </tr>\n",
              "    <tr>\n",
              "      <th>Ecoli1-heterozygous</th>\n",
              "      <td>NaN</td>\n",
              "    </tr>\n",
              "    <tr>\n",
              "      <th>Ecoli2-nonoise-proteins</th>\n",
              "      <td>NaN</td>\n",
              "    </tr>\n",
              "    <tr>\n",
              "      <th>Ecoli2-nonoise-heterozygous</th>\n",
              "      <td>NaN</td>\n",
              "    </tr>\n",
              "    <tr>\n",
              "      <th>Ecoli2-heterozygous</th>\n",
              "      <td>NaN</td>\n",
              "    </tr>\n",
              "    <tr>\n",
              "      <th>Ecoli2-null-mutants</th>\n",
              "      <td>NaN</td>\n",
              "    </tr>\n",
              "    <tr>\n",
              "      <th>Ecoli2-trajectories</th>\n",
              "      <td>NaN</td>\n",
              "    </tr>\n",
              "    <tr>\n",
              "      <th>Yeast1-null-mutants</th>\n",
              "      <td>NaN</td>\n",
              "    </tr>\n",
              "    <tr>\n",
              "      <th>Yeast1-nonoise-heterozygous</th>\n",
              "      <td>NaN</td>\n",
              "    </tr>\n",
              "    <tr>\n",
              "      <th>Yeast1-heterozygous</th>\n",
              "      <td>NaN</td>\n",
              "    </tr>\n",
              "    <tr>\n",
              "      <th>Yeast1-nonoise-proteins</th>\n",
              "      <td>NaN</td>\n",
              "    </tr>\n",
              "    <tr>\n",
              "      <th>Yeast1-trajectories</th>\n",
              "      <td>NaN</td>\n",
              "    </tr>\n",
              "    <tr>\n",
              "      <th>Yeast2-nonoise-proteins</th>\n",
              "      <td>NaN</td>\n",
              "    </tr>\n",
              "    <tr>\n",
              "      <th>Yeast2-null-mutants</th>\n",
              "      <td>NaN</td>\n",
              "    </tr>\n",
              "    <tr>\n",
              "      <th>Yeast2-nonoise-heterozygous</th>\n",
              "      <td>NaN</td>\n",
              "    </tr>\n",
              "    <tr>\n",
              "      <th>Yeast2-trajectories</th>\n",
              "      <td>NaN</td>\n",
              "    </tr>\n",
              "    <tr>\n",
              "      <th>Yeast2-heterozygous</th>\n",
              "      <td>NaN</td>\n",
              "    </tr>\n",
              "    <tr>\n",
              "      <th>Yeast3-null-mutants</th>\n",
              "      <td>NaN</td>\n",
              "    </tr>\n",
              "    <tr>\n",
              "      <th>Yeast3-heterozygous</th>\n",
              "      <td>NaN</td>\n",
              "    </tr>\n",
              "    <tr>\n",
              "      <th>Yeast3-nonoise-heterozygous</th>\n",
              "      <td>NaN</td>\n",
              "    </tr>\n",
              "    <tr>\n",
              "      <th>Yeast3-nonoise-proteins</th>\n",
              "      <td>NaN</td>\n",
              "    </tr>\n",
              "    <tr>\n",
              "      <th>Yeast3-trajectories</th>\n",
              "      <td>NaN</td>\n",
              "    </tr>\n",
              "  </tbody>\n",
              "</table>\n",
              "</div>"
            ],
            "text/plain": [
              "                            Time Taken\n",
              "Ecoli1-null-mutants                NaN\n",
              "Ecoli1-nonoise-heterozygous        NaN\n",
              "Ecoli1-nonoise-proteins            NaN\n",
              "Ecoli1-trajectories                NaN\n",
              "Ecoli1-heterozygous                NaN\n",
              "Ecoli2-nonoise-proteins            NaN\n",
              "Ecoli2-nonoise-heterozygous        NaN\n",
              "Ecoli2-heterozygous                NaN\n",
              "Ecoli2-null-mutants                NaN\n",
              "Ecoli2-trajectories                NaN\n",
              "Yeast1-null-mutants                NaN\n",
              "Yeast1-nonoise-heterozygous        NaN\n",
              "Yeast1-heterozygous                NaN\n",
              "Yeast1-nonoise-proteins            NaN\n",
              "Yeast1-trajectories                NaN\n",
              "Yeast2-nonoise-proteins            NaN\n",
              "Yeast2-null-mutants                NaN\n",
              "Yeast2-nonoise-heterozygous        NaN\n",
              "Yeast2-trajectories                NaN\n",
              "Yeast2-heterozygous                NaN\n",
              "Yeast3-null-mutants                NaN\n",
              "Yeast3-heterozygous                NaN\n",
              "Yeast3-nonoise-heterozygous        NaN\n",
              "Yeast3-nonoise-proteins            NaN\n",
              "Yeast3-trajectories                NaN"
            ]
          },
          "metadata": {},
          "execution_count": 41
        }
      ]
    },
    {
      "cell_type": "code",
      "metadata": {
        "id": "Q9nsd5OheNhN"
      },
      "source": [
        "import numpy as np\n",
        "\n",
        "header_dct = {}\n",
        "\n",
        "for i in range(1,51):\n",
        "  header_dct['G'+str(i)] = 'c'\n",
        "\n",
        "def print_theta_accuracy(standardnw_path,dataset_path):\n",
        "  \n",
        "  acc_value = []\n",
        "  data = pd.read_csv(dataset_path, sep='\\t') \n",
        "  data = data.iloc[: , 1:]\n",
        "\n",
        "\n",
        "  benchmark_network = pd.read_csv(standardnw_path, sep='\\t', header=None)\n",
        "  benchmark_network = benchmark_network.loc[benchmark_network[2] == 1]\n",
        "\n",
        "\n",
        "  benchmark_graph = nx.Graph()\n",
        "\n",
        "  for i in (1,50):\n",
        "      benchmark_graph.add_node('G'+str(i))\n",
        "\n",
        "  for row in range(0,benchmark_network.shape[0]):\n",
        "      benchmark_graph.add_edge(benchmark_network[0][row], benchmark_network[1][row])\n",
        "\n",
        "\n",
        "  benchmark_adjMatrix = nx.adjacency_matrix(benchmark_graph)\n",
        "  # Check time Elapsed for IC Algorithm to run\n",
        "  # Time in seconds\n",
        "  start = time.time()\n",
        "  # run the IC search\n",
        "  ic_algorithm = IC(RobustRegressionTest)\n",
        "  predicted_graph = ic_algorithm.search(data, header_dct)\n",
        "  end = time.time()\n",
        "#   print(end - start)\n",
        "  time_elapsed = end - start\n",
        "#   time_list.append(time_elapsed)\n",
        "\n",
        "  predicted_adjMatrix = nx.adjacency_matrix(predicted_graph)\n",
        "  y_test = benchmark_adjMatrix.todense().flatten()\n",
        "  y_pred = predicted_adjMatrix.todense().flatten()\n",
        "  y_pred = np.asarray(y_pred)\n",
        "  y_test = np.asarray(y_test)\n",
        "  y_pred = y_pred.reshape(y_pred.shape[1],)\n",
        "  y_test = y_test.reshape(y_test.shape[1],)\n",
        "\n",
        "  print(y_pred.shape, y_test.shape)\n",
        "  cm = ConfusionMatrix(y_test, y_pred)\n",
        "  cmacc = [cm.ACC_Macro, cm.F1_Macro, cm.TPR_Macro, cm.FPR_Macro]\n",
        "  cmacc = [round(num, 2) for num in cmacc]\n",
        "#   acc_list.append(cm.ACC_Macro)\n",
        "  \n",
        "  return time_elapsed,cmacc;"
      ],
      "execution_count": 42,
      "outputs": []
    },
    {
      "cell_type": "code",
      "metadata": {
        "scrolled": true,
        "id": "miP3EgkDeNhO",
        "outputId": "e80d0017-0470-4247-e527-679d49a21c08",
        "colab": {
          "base_uri": "https://localhost:8080/",
          "height": 1000
        }
      },
      "source": [
        "directory = '/content/drive/MyDrive/COM S 673/DREAM3 in silico challenge/Size50/DREAM3 data/'\n",
        "goldstandard = '/content/drive/MyDrive/COM S 673/DREAM3 in silico challenge/Size50/DREAM3 gold standards/'\n",
        "df_columns = ['accuracy','timetaken']\n",
        "df_index = os.listdir(directory)\n",
        "filename_df = []\n",
        "#result_df = pd.DataFrame(columns = df_columns, index = filename_df)\n",
        "result_df = pd.DataFrame(columns = df_columns, index= df_index)\n",
        "\n",
        "\n",
        "for filename in os.listdir(directory):\n",
        "    data_path = directory+filename\n",
        "    \n",
        "    filename_temp  = filename\n",
        "    split_filename = (filename_temp.split('-'))\n",
        "    if(split_filename[2] == 'null'):\n",
        "      type = split_filename[3].split('.')\n",
        "    else:\n",
        "      type = split_filename[2].split('.')\n",
        "      split_mix = type[0]\n",
        "        \n",
        "    print(filename_temp, split_filename)\n",
        "\n",
        "    index_location = split_filename[1]+'-'+split_mix\n",
        "\n",
        "    filename_df = split_filename[0]+'-'+split_filename[1]+'-'+split_filename[2]\n",
        "    print(filename_df)\n",
        "    \n",
        "    goldstandardname = ('DREAM3GoldStandard_'+split_filename[0]+'_'+split_filename[1]+'.txt')\n",
        "    goldstandard_path = goldstandard+goldstandardname\n",
        "    time_value, acc_value = print_theta_accuracy(goldstandard_path, data_path)\n",
        "    print(filename+':')\n",
        "    print(time_value, acc_value)\n",
        "    print()\n",
        "    result_df['accuracy'][filename] =  \"ACC=\"+str(acc_value[0])+\" , F1=\"+str(acc_value[1])+\" , TPR=\"+str(acc_value[2])+\" , FPR=\"+str(acc_value[3])\n",
        "    result_df['timetaken'][filename] = time_value\n",
        "    result_df.to_csv('/content/drive/MyDrive/COM S 673/DREAM3 in silico challenge/Results_IC/Size50/IC_results50_skeleton_only.csv')\n",
        "    "
      ],
      "execution_count": 43,
      "outputs": [
        {
          "output_type": "stream",
          "name": "stdout",
          "text": [
            "InSilicoSize50-Ecoli1-null-mutants.tsv ['InSilicoSize50', 'Ecoli1', 'null', 'mutants.tsv']\n",
            "InSilicoSize50-Ecoli1-null\n",
            "(2500,) (2500,)\n",
            "InSilicoSize50-Ecoli1-null-mutants.tsv:\n",
            "416.3712909221649 [0.92, 0.51, 0.51, 0.49]\n",
            "\n",
            "InSilicoSize50-Ecoli1-nonoise-heterozygous.tsv ['InSilicoSize50', 'Ecoli1', 'nonoise', 'heterozygous.tsv']\n",
            "InSilicoSize50-Ecoli1-nonoise\n"
          ]
        },
        {
          "output_type": "stream",
          "name": "stderr",
          "text": [
            "/usr/local/lib/python3.7/dist-packages/statsmodels/robust/robust_linear_model.py:275: RuntimeWarning: divide by zero encountered in true_divide\n",
            "  self.weights = self.M.weights(wls_results.resid/self.scale)\n",
            "/usr/local/lib/python3.7/dist-packages/statsmodels/robust/robust_linear_model.py:275: RuntimeWarning: invalid value encountered in true_divide\n",
            "  self.weights = self.M.weights(wls_results.resid/self.scale)\n"
          ]
        },
        {
          "output_type": "error",
          "ename": "ValueError",
          "evalue": "ignored",
          "traceback": [
            "\u001b[0;31m---------------------------------------------------------------------------\u001b[0m",
            "\u001b[0;31mValueError\u001b[0m                                Traceback (most recent call last)",
            "\u001b[0;32m<ipython-input-43-c4705f916e25>\u001b[0m in \u001b[0;36m<module>\u001b[0;34m()\u001b[0m\n\u001b[1;32m     28\u001b[0m     \u001b[0mgoldstandardname\u001b[0m \u001b[0;34m=\u001b[0m \u001b[0;34m(\u001b[0m\u001b[0;34m'DREAM3GoldStandard_'\u001b[0m\u001b[0;34m+\u001b[0m\u001b[0msplit_filename\u001b[0m\u001b[0;34m[\u001b[0m\u001b[0;36m0\u001b[0m\u001b[0;34m]\u001b[0m\u001b[0;34m+\u001b[0m\u001b[0;34m'_'\u001b[0m\u001b[0;34m+\u001b[0m\u001b[0msplit_filename\u001b[0m\u001b[0;34m[\u001b[0m\u001b[0;36m1\u001b[0m\u001b[0;34m]\u001b[0m\u001b[0;34m+\u001b[0m\u001b[0;34m'.txt'\u001b[0m\u001b[0;34m)\u001b[0m\u001b[0;34m\u001b[0m\u001b[0;34m\u001b[0m\u001b[0m\n\u001b[1;32m     29\u001b[0m     \u001b[0mgoldstandard_path\u001b[0m \u001b[0;34m=\u001b[0m \u001b[0mgoldstandard\u001b[0m\u001b[0;34m+\u001b[0m\u001b[0mgoldstandardname\u001b[0m\u001b[0;34m\u001b[0m\u001b[0;34m\u001b[0m\u001b[0m\n\u001b[0;32m---> 30\u001b[0;31m     \u001b[0mtime_value\u001b[0m\u001b[0;34m,\u001b[0m \u001b[0macc_value\u001b[0m \u001b[0;34m=\u001b[0m \u001b[0mprint_theta_accuracy\u001b[0m\u001b[0;34m(\u001b[0m\u001b[0mgoldstandard_path\u001b[0m\u001b[0;34m,\u001b[0m \u001b[0mdata_path\u001b[0m\u001b[0;34m)\u001b[0m\u001b[0;34m\u001b[0m\u001b[0;34m\u001b[0m\u001b[0m\n\u001b[0m\u001b[1;32m     31\u001b[0m     \u001b[0mprint\u001b[0m\u001b[0;34m(\u001b[0m\u001b[0mfilename\u001b[0m\u001b[0;34m+\u001b[0m\u001b[0;34m':'\u001b[0m\u001b[0;34m)\u001b[0m\u001b[0;34m\u001b[0m\u001b[0;34m\u001b[0m\u001b[0m\n\u001b[1;32m     32\u001b[0m     \u001b[0mprint\u001b[0m\u001b[0;34m(\u001b[0m\u001b[0mtime_value\u001b[0m\u001b[0;34m,\u001b[0m \u001b[0macc_value\u001b[0m\u001b[0;34m)\u001b[0m\u001b[0;34m\u001b[0m\u001b[0;34m\u001b[0m\u001b[0m\n",
            "\u001b[0;32m<ipython-input-42-b6b343177feb>\u001b[0m in \u001b[0;36mprint_theta_accuracy\u001b[0;34m(standardnw_path, dataset_path)\u001b[0m\n\u001b[1;32m     32\u001b[0m   \u001b[0;31m# run the IC search\u001b[0m\u001b[0;34m\u001b[0m\u001b[0;34m\u001b[0m\u001b[0;34m\u001b[0m\u001b[0m\n\u001b[1;32m     33\u001b[0m   \u001b[0mic_algorithm\u001b[0m \u001b[0;34m=\u001b[0m \u001b[0mIC\u001b[0m\u001b[0;34m(\u001b[0m\u001b[0mRobustRegressionTest\u001b[0m\u001b[0;34m)\u001b[0m\u001b[0;34m\u001b[0m\u001b[0;34m\u001b[0m\u001b[0m\n\u001b[0;32m---> 34\u001b[0;31m   \u001b[0mpredicted_graph\u001b[0m \u001b[0;34m=\u001b[0m \u001b[0mic_algorithm\u001b[0m\u001b[0;34m.\u001b[0m\u001b[0msearch\u001b[0m\u001b[0;34m(\u001b[0m\u001b[0mdata\u001b[0m\u001b[0;34m,\u001b[0m \u001b[0mheader_dct\u001b[0m\u001b[0;34m)\u001b[0m\u001b[0;34m\u001b[0m\u001b[0;34m\u001b[0m\u001b[0m\n\u001b[0m\u001b[1;32m     35\u001b[0m   \u001b[0mend\u001b[0m \u001b[0;34m=\u001b[0m \u001b[0mtime\u001b[0m\u001b[0;34m.\u001b[0m\u001b[0mtime\u001b[0m\u001b[0;34m(\u001b[0m\u001b[0;34m)\u001b[0m\u001b[0;34m\u001b[0m\u001b[0;34m\u001b[0m\u001b[0m\n\u001b[1;32m     36\u001b[0m \u001b[0;31m#   print(end - start)\u001b[0m\u001b[0;34m\u001b[0m\u001b[0;34m\u001b[0m\u001b[0;34m\u001b[0m\u001b[0m\n",
            "\u001b[0;32m/usr/local/lib/python3.7/dist-packages/causality/inference/search/__init__.py\u001b[0m in \u001b[0;36msearch\u001b[0;34m(self, data, variable_types)\u001b[0m\n\u001b[1;32m     25\u001b[0m     \u001b[0;32mdef\u001b[0m \u001b[0msearch\u001b[0m\u001b[0;34m(\u001b[0m\u001b[0mself\u001b[0m\u001b[0;34m,\u001b[0m \u001b[0mdata\u001b[0m\u001b[0;34m,\u001b[0m \u001b[0mvariable_types\u001b[0m\u001b[0;34m)\u001b[0m\u001b[0;34m:\u001b[0m\u001b[0;34m\u001b[0m\u001b[0;34m\u001b[0m\u001b[0m\n\u001b[1;32m     26\u001b[0m         \u001b[0mself\u001b[0m\u001b[0;34m.\u001b[0m\u001b[0m_build_g\u001b[0m\u001b[0;34m(\u001b[0m\u001b[0mvariable_types\u001b[0m\u001b[0;34m)\u001b[0m\u001b[0;34m\u001b[0m\u001b[0;34m\u001b[0m\u001b[0m\n\u001b[0;32m---> 27\u001b[0;31m         \u001b[0mself\u001b[0m\u001b[0;34m.\u001b[0m\u001b[0m_find_skeleton\u001b[0m\u001b[0;34m(\u001b[0m\u001b[0mdata\u001b[0m\u001b[0;34m,\u001b[0m \u001b[0mvariable_types\u001b[0m\u001b[0;34m)\u001b[0m\u001b[0;34m\u001b[0m\u001b[0;34m\u001b[0m\u001b[0m\n\u001b[0m\u001b[1;32m     28\u001b[0m         \u001b[0mself\u001b[0m\u001b[0;34m.\u001b[0m\u001b[0m_orient_colliders\u001b[0m\u001b[0;34m(\u001b[0m\u001b[0;34m)\u001b[0m\u001b[0;34m\u001b[0m\u001b[0;34m\u001b[0m\u001b[0m\n\u001b[1;32m     29\u001b[0m \u001b[0;34m\u001b[0m\u001b[0m\n",
            "\u001b[0;32m/usr/local/lib/python3.7/dist-packages/causality/inference/search/__init__.py\u001b[0m in \u001b[0;36m_find_skeleton\u001b[0;34m(self, data, variable_types)\u001b[0m\n\u001b[1;32m    134\u001b[0m                 \u001b[0;32mfor\u001b[0m \u001b[0mz\u001b[0m \u001b[0;32min\u001b[0m \u001b[0mitertools\u001b[0m\u001b[0;34m.\u001b[0m\u001b[0mcombinations\u001b[0m\u001b[0;34m(\u001b[0m\u001b[0mz_candidates\u001b[0m\u001b[0;34m,\u001b[0m \u001b[0mN\u001b[0m\u001b[0;34m)\u001b[0m\u001b[0;34m:\u001b[0m\u001b[0;34m\u001b[0m\u001b[0;34m\u001b[0m\u001b[0m\n\u001b[1;32m    135\u001b[0m                     test = self.independence_test([y], [x], list(z),\n\u001b[0;32m--> 136\u001b[0;31m                         data, self.alpha)\n\u001b[0m\u001b[1;32m    137\u001b[0m                     \u001b[0;32mif\u001b[0m \u001b[0mtest\u001b[0m\u001b[0;34m.\u001b[0m\u001b[0mindependent\u001b[0m\u001b[0;34m(\u001b[0m\u001b[0;34m)\u001b[0m\u001b[0;34m:\u001b[0m\u001b[0;34m\u001b[0m\u001b[0;34m\u001b[0m\u001b[0m\n\u001b[1;32m    138\u001b[0m                         \u001b[0mself\u001b[0m\u001b[0;34m.\u001b[0m\u001b[0m_g\u001b[0m\u001b[0;34m.\u001b[0m\u001b[0mremove_edge\u001b[0m\u001b[0;34m(\u001b[0m\u001b[0mx\u001b[0m\u001b[0;34m,\u001b[0m\u001b[0my\u001b[0m\u001b[0;34m)\u001b[0m\u001b[0;34m\u001b[0m\u001b[0;34m\u001b[0m\u001b[0m\n",
            "\u001b[0;32m/usr/local/lib/python3.7/dist-packages/causality/inference/independence_tests/__init__.py\u001b[0m in \u001b[0;36m__init__\u001b[0;34m(self, y, x, z, data, alpha)\u001b[0m\n\u001b[1;32m     11\u001b[0m     \u001b[0;32mdef\u001b[0m \u001b[0m__init__\u001b[0m\u001b[0;34m(\u001b[0m\u001b[0mself\u001b[0m\u001b[0;34m,\u001b[0m \u001b[0my\u001b[0m\u001b[0;34m,\u001b[0m \u001b[0mx\u001b[0m\u001b[0;34m,\u001b[0m \u001b[0mz\u001b[0m\u001b[0;34m,\u001b[0m \u001b[0mdata\u001b[0m\u001b[0;34m,\u001b[0m \u001b[0malpha\u001b[0m\u001b[0;34m)\u001b[0m\u001b[0;34m:\u001b[0m\u001b[0;34m\u001b[0m\u001b[0;34m\u001b[0m\u001b[0m\n\u001b[1;32m     12\u001b[0m         \u001b[0mself\u001b[0m\u001b[0;34m.\u001b[0m\u001b[0mregression\u001b[0m \u001b[0;34m=\u001b[0m \u001b[0msm\u001b[0m\u001b[0;34m.\u001b[0m\u001b[0mRLM\u001b[0m\u001b[0;34m(\u001b[0m\u001b[0mdata\u001b[0m\u001b[0;34m[\u001b[0m\u001b[0my\u001b[0m\u001b[0;34m]\u001b[0m\u001b[0;34m,\u001b[0m \u001b[0mdata\u001b[0m\u001b[0;34m[\u001b[0m\u001b[0mx\u001b[0m\u001b[0;34m+\u001b[0m\u001b[0mz\u001b[0m\u001b[0;34m]\u001b[0m\u001b[0;34m)\u001b[0m\u001b[0;34m\u001b[0m\u001b[0;34m\u001b[0m\u001b[0m\n\u001b[0;32m---> 13\u001b[0;31m         \u001b[0mself\u001b[0m\u001b[0;34m.\u001b[0m\u001b[0mresult\u001b[0m \u001b[0;34m=\u001b[0m \u001b[0mself\u001b[0m\u001b[0;34m.\u001b[0m\u001b[0mregression\u001b[0m\u001b[0;34m.\u001b[0m\u001b[0mfit\u001b[0m\u001b[0;34m(\u001b[0m\u001b[0;34m)\u001b[0m\u001b[0;34m\u001b[0m\u001b[0;34m\u001b[0m\u001b[0m\n\u001b[0m\u001b[1;32m     14\u001b[0m         \u001b[0mself\u001b[0m\u001b[0;34m.\u001b[0m\u001b[0mcoefficient\u001b[0m \u001b[0;34m=\u001b[0m \u001b[0mself\u001b[0m\u001b[0;34m.\u001b[0m\u001b[0mresult\u001b[0m\u001b[0;34m.\u001b[0m\u001b[0mparams\u001b[0m\u001b[0;34m[\u001b[0m\u001b[0mx\u001b[0m\u001b[0;34m]\u001b[0m\u001b[0;34m[\u001b[0m\u001b[0;36m0\u001b[0m\u001b[0;34m]\u001b[0m\u001b[0;34m\u001b[0m\u001b[0;34m\u001b[0m\u001b[0m\n\u001b[1;32m     15\u001b[0m         \u001b[0mconfidence_interval\u001b[0m \u001b[0;34m=\u001b[0m \u001b[0mself\u001b[0m\u001b[0;34m.\u001b[0m\u001b[0mresult\u001b[0m\u001b[0;34m.\u001b[0m\u001b[0mconf_int\u001b[0m\u001b[0;34m(\u001b[0m\u001b[0malpha\u001b[0m\u001b[0;34m=\u001b[0m\u001b[0malpha\u001b[0m\u001b[0;34m/\u001b[0m\u001b[0;36m2.\u001b[0m\u001b[0;34m)\u001b[0m\u001b[0;34m\u001b[0m\u001b[0;34m\u001b[0m\u001b[0m\n",
            "\u001b[0;32m/usr/local/lib/python3.7/dist-packages/statsmodels/robust/robust_linear_model.py\u001b[0m in \u001b[0;36mfit\u001b[0;34m(self, maxiter, tol, scale_est, init, cov, update_scale, conv)\u001b[0m\n\u001b[1;32m    276\u001b[0m             wls_results = reg_tools._MinimalWLS(self.endog, self.exog,\n\u001b[1;32m    277\u001b[0m                                                 \u001b[0mweights\u001b[0m\u001b[0;34m=\u001b[0m\u001b[0mself\u001b[0m\u001b[0;34m.\u001b[0m\u001b[0mweights\u001b[0m\u001b[0;34m,\u001b[0m\u001b[0;34m\u001b[0m\u001b[0;34m\u001b[0m\u001b[0m\n\u001b[0;32m--> 278\u001b[0;31m                                                 check_weights=True).fit()\n\u001b[0m\u001b[1;32m    279\u001b[0m             \u001b[0;32mif\u001b[0m \u001b[0mupdate_scale\u001b[0m \u001b[0;32mis\u001b[0m \u001b[0;32mTrue\u001b[0m\u001b[0;34m:\u001b[0m\u001b[0;34m\u001b[0m\u001b[0;34m\u001b[0m\u001b[0m\n\u001b[1;32m    280\u001b[0m                 \u001b[0mself\u001b[0m\u001b[0;34m.\u001b[0m\u001b[0mscale\u001b[0m \u001b[0;34m=\u001b[0m \u001b[0mself\u001b[0m\u001b[0;34m.\u001b[0m\u001b[0m_estimate_scale\u001b[0m\u001b[0;34m(\u001b[0m\u001b[0mwls_results\u001b[0m\u001b[0;34m.\u001b[0m\u001b[0mresid\u001b[0m\u001b[0;34m)\u001b[0m\u001b[0;34m\u001b[0m\u001b[0;34m\u001b[0m\u001b[0m\n",
            "\u001b[0;32m/usr/local/lib/python3.7/dist-packages/statsmodels/regression/_tools.py\u001b[0m in \u001b[0;36m__init__\u001b[0;34m(self, endog, exog, weights, check_endog, check_weights)\u001b[0m\n\u001b[1;32m     46\u001b[0m         \u001b[0;32mif\u001b[0m \u001b[0mcheck_weights\u001b[0m\u001b[0;34m:\u001b[0m\u001b[0;34m\u001b[0m\u001b[0;34m\u001b[0m\u001b[0m\n\u001b[1;32m     47\u001b[0m             \u001b[0;32mif\u001b[0m \u001b[0;32mnot\u001b[0m \u001b[0mnp\u001b[0m\u001b[0;34m.\u001b[0m\u001b[0mall\u001b[0m\u001b[0;34m(\u001b[0m\u001b[0mnp\u001b[0m\u001b[0;34m.\u001b[0m\u001b[0misfinite\u001b[0m\u001b[0;34m(\u001b[0m\u001b[0mw_half\u001b[0m\u001b[0;34m)\u001b[0m\u001b[0;34m)\u001b[0m\u001b[0;34m:\u001b[0m\u001b[0;34m\u001b[0m\u001b[0;34m\u001b[0m\u001b[0m\n\u001b[0;32m---> 48\u001b[0;31m                 \u001b[0;32mraise\u001b[0m \u001b[0mValueError\u001b[0m\u001b[0;34m(\u001b[0m\u001b[0mself\u001b[0m\u001b[0;34m.\u001b[0m\u001b[0mmsg\u001b[0m\u001b[0;34m.\u001b[0m\u001b[0mformat\u001b[0m\u001b[0;34m(\u001b[0m\u001b[0;34m'weights'\u001b[0m\u001b[0;34m)\u001b[0m\u001b[0;34m)\u001b[0m\u001b[0;34m\u001b[0m\u001b[0;34m\u001b[0m\u001b[0m\n\u001b[0m\u001b[1;32m     49\u001b[0m \u001b[0;34m\u001b[0m\u001b[0m\n\u001b[1;32m     50\u001b[0m         \u001b[0;32mif\u001b[0m \u001b[0mcheck_endog\u001b[0m\u001b[0;34m:\u001b[0m\u001b[0;34m\u001b[0m\u001b[0;34m\u001b[0m\u001b[0m\n",
            "\u001b[0;31mValueError\u001b[0m: NaN, inf or invalid value detected in weights, estimation infeasible."
          ]
        }
      ]
    },
    {
      "cell_type": "code",
      "metadata": {
        "id": "OfM5cIbTeNhP"
      },
      "source": [
        "result_df"
      ],
      "execution_count": null,
      "outputs": []
    },
    {
      "cell_type": "code",
      "metadata": {
        "id": "LEepHbaUjqc8"
      },
      "source": [
        ""
      ],
      "execution_count": null,
      "outputs": []
    }
  ]
}